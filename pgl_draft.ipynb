{
 "cells": [
  {
   "cell_type": "code",
   "execution_count": 74,
   "metadata": {
    "scrolled": true
   },
   "outputs": [],
   "source": [
    "from os import path, system, listdir\n",
    "import pandas as pd\n",
    "import abacat as ab"
   ]
  },
  {
   "cell_type": "code",
   "execution_count": 112,
   "metadata": {
    "scrolled": true
   },
   "outputs": [],
   "source": [
    "df = pd.read_csv(\"pgl_data/vibrio_corallilyticus_metadata.csv\", sep=\"\\t\")\n",
    "df_ = pd.read_csv(\"pgl_data/vibrio_corallilyticus_genome_annotation_report.csv\")"
   ]
  },
  {
   "cell_type": "code",
   "execution_count": 113,
   "metadata": {
    "scrolled": true
   },
   "outputs": [],
   "source": [
    "df_.rename(columns={\"BioSample\":\"biosample\"}, inplace=True)"
   ]
  },
  {
   "cell_type": "code",
   "execution_count": 114,
   "metadata": {
    "scrolled": true
   },
   "outputs": [],
   "source": [
    "df_[\"biosample\"] = df_[\"biosample\"].str.strip()"
   ]
  },
  {
   "cell_type": "code",
   "execution_count": 115,
   "metadata": {
    "scrolled": true
   },
   "outputs": [],
   "source": [
    "df = df.drop_duplicates(subset=\"assembly_accession\")"
   ]
  },
  {
   "cell_type": "code",
   "execution_count": 116,
   "metadata": {
    "scrolled": true
   },
   "outputs": [],
   "source": [
    "df = df.merge(df_, on=\"biosample\")"
   ]
  },
  {
   "cell_type": "code",
   "execution_count": 117,
   "metadata": {
    "scrolled": true
   },
   "outputs": [],
   "source": [
    "df[\"local_fna_filename\"] = df[\"local_filename\"].str.replace(\n",
    "    \".gbff\", \".fna\").str.replace(\"./refseq\", \"/home/vini/Bio/complex_networks/pgl_data/refseq\")"
   ]
  },
  {
   "cell_type": "code",
   "execution_count": 118,
   "metadata": {
    "scrolled": true
   },
   "outputs": [],
   "source": [
    "df[\"local_fna_filename\"] = df[\"local_fna_filename\"].str.replace(\".gz\", \"\")"
   ]
  },
  {
   "cell_type": "code",
   "execution_count": 119,
   "metadata": {
    "scrolled": true
   },
   "outputs": [],
   "source": [
    "for i in df[\"local_fna_filename\"]:\n",
    "    if not path.isfile(i):\n",
    "        print(i)\n",
    "   # else:\n",
    "   #     system(f\"gunzip {i}\")"
   ]
  },
  {
   "cell_type": "code",
   "execution_count": 120,
   "metadata": {
    "scrolled": true
   },
   "outputs": [
    {
     "name": "stderr",
     "output_type": "stream",
     "text": [
      "2019-12-13 05:35:07 - Note: NumExpr detected 48 cores but \"NUMEXPR_MAX_THREADS\" not set, so enforcing safe limit of 8.\n",
      "2019-12-13 05:35:07 - NumExpr defaulting to 8 threads.\n"
     ]
    }
   ],
   "source": [
    "df[\"new_name\"] = \"Vibrio coralliilyticus \" + df[\"Strain\"]\n",
    "df[\"new_name\"] = df[\"new_name\"].str.replace(\" \", \"_\")"
   ]
  },
  {
   "cell_type": "code",
   "execution_count": 121,
   "metadata": {
    "scrolled": true
   },
   "outputs": [],
   "source": [
    "df.loc[7, \"new_name\"] = \"Vibrio_coralliilyticus_RE22A\"\n",
    "df.loc[14, \"new_name\"] = \"Vibrio_coralliilyticus_RE22B\""
   ]
  },
  {
   "cell_type": "code",
   "execution_count": 122,
   "metadata": {
    "scrolled": true
   },
   "outputs": [
    {
     "data": {
      "text/plain": [
       "0     Vibrio_coralliilyticus_ATCC_BAA-450\n",
       "1               Vibrio_coralliilyticus_P1\n",
       "2           Vibrio_coralliilyticus_OCN008\n",
       "3           Vibrio_coralliilyticus_OCN014\n",
       "4             Vibrio_coralliilyticus_RE98\n",
       "5            Vibrio_coralliilyticus_S2052\n",
       "6            Vibrio_coralliilyticus_S2043\n",
       "7            Vibrio_coralliilyticus_RE22A\n",
       "8               Vibrio_coralliilyticus_58\n",
       "9          Vibrio_coralliilyticus_SNUTY-1\n",
       "10         Vibrio_coralliilyticus_080116A\n",
       "11            Vibrio_coralliilyticus_RE87\n",
       "12           Vibrio_coralliilyticus_AIC-7\n",
       "13          Vibrio_coralliilyticus_NA0301\n",
       "14           Vibrio_coralliilyticus_RE22B\n",
       "Name: new_name, dtype: object"
      ]
     },
     "execution_count": 122,
     "metadata": {},
     "output_type": "execute_result"
    }
   ],
   "source": [
    "df[\"new_name\"]"
   ]
  },
  {
   "cell_type": "code",
   "execution_count": 139,
   "metadata": {
    "scrolled": true
   },
   "outputs": [],
   "source": [
    "df[[\"new_name\", \"local_fna_filename\"]].to_csv(\"pgl_data/vibrio_pgl_input.tsv\", index=False, header=None, sep=\"\\t\")"
   ]
  },
  {
   "cell_type": "code",
   "execution_count": 99,
   "metadata": {
    "scrolled": true
   },
   "outputs": [],
   "source": [
    "# dir_ = \"/home/vini/Bio/complex_networks/pgl_data/refseq/bacteria/prokka\"\n",
    "# dst_base = \"/home/vini/Bio/complex_networks/pgl_data/refseq/bacteria\"\n",
    "\n",
    "# for dir__ in listdir(dir_):\n",
    "#     name = dir__.split(\"_genomic\")[0]\n",
    "#     for file in listdir(path.join(dir_, dir__)):\n",
    "#         file = path.join(dir_, dir__, file)\n",
    "#         ext = path.splitext(file)[1]\n",
    "#         dst = path.join(dst_base, name[:15], name + \"_prokka\" + ext)\n",
    "#         system(f\"mv {file} {dst}\")"
   ]
  },
  {
   "cell_type": "code",
   "execution_count": 123,
   "metadata": {
    "scrolled": true
   },
   "outputs": [],
   "source": [
    "df[\"prokka_gff\"] = df[\"local_fna_filename\"].apply(lambda s: s.replace(\"_genomic.fna\", \"_prokka.gff\"))"
   ]
  },
  {
   "cell_type": "code",
   "execution_count": 124,
   "metadata": {
    "scrolled": true
   },
   "outputs": [
    {
     "data": {
      "text/plain": [
       "Index(['assembly_accession', 'bioproject', 'biosample', 'wgs_master',\n",
       "       'excluded_from_refseq', 'refseq_category', 'relation_to_type_material',\n",
       "       'taxid', 'species_taxid', 'organism_name', 'infraspecific_name',\n",
       "       'isolate', 'version_status', 'assembly_level', 'release_type',\n",
       "       'genome_rep', 'seq_rel_date', 'asm_name', 'submitter',\n",
       "       'gbrs_paired_asm', 'paired_asm_comp', 'ftp_path', 'local_filename',\n",
       "       '#Organism/Name', 'Strain', 'BioProject', 'Group', 'SubGroup',\n",
       "       'Assembly', 'Size (Mb)', 'GC%', 'Replicons', 'WGS', 'Scaffolds',\n",
       "       'Genes', 'Proteins', 'Release Date', 'Modify Date', 'Level',\n",
       "       'RefSeq FTP', 'GenBank FTP', 'local_fna_filename', 'new_name',\n",
       "       'prokka_gff'],\n",
       "      dtype='object')"
      ]
     },
     "execution_count": 124,
     "metadata": {},
     "output_type": "execute_result"
    }
   ],
   "source": [
    "df.columns"
   ]
  },
  {
   "cell_type": "code",
   "execution_count": 129,
   "metadata": {
    "scrolled": true
   },
   "outputs": [],
   "source": [
    "df[[\"new_name\",\"prokka_gff\"]].to_csv(\"pgl_data/vibrio_pgl_prokka.csv\", sep=\"\\t\", index=False, header=None)\n"
   ]
  },
  {
   "cell_type": "code",
   "execution_count": 31,
   "metadata": {
    "scrolled": true
   },
   "outputs": [],
   "source": [
    "import networkx as nx"
   ]
  },
  {
   "cell_type": "code",
   "execution_count": 33,
   "metadata": {
    "scrolled": true
   },
   "outputs": [
    {
     "name": "stdout",
     "output_type": "stream",
     "text": [
      "/home/vini/Bio/complex_networks\r\n"
     ]
    }
   ],
   "source": [
    "!pwd"
   ]
  },
  {
   "cell_type": "code",
   "execution_count": 36,
   "metadata": {
    "scrolled": true
   },
   "outputs": [
    {
     "name": "stdout",
     "output_type": "stream",
     "text": [
      "Network Analysis.ipynb\tlistas\t  pgl_draft.ipynb  relatorio\r\n",
      "data\t\t\tpgl_data  plots\t\t   vibrio_c_default\r\n"
     ]
    }
   ],
   "source": [
    "!ls"
   ]
  },
  {
   "cell_type": "code",
   "execution_count": null,
   "metadata": {
    "scrolled": true
   },
   "outputs": [],
   "source": []
  },
  {
   "cell_type": "code",
   "execution_count": 139,
   "metadata": {
    "scrolled": true
   },
   "outputs": [],
   "source": [
    "g = nx.read_gexf(\"vibrio_pgl_prokka/pangenomeGraph.gexf\")"
   ]
  },
  {
   "cell_type": "code",
   "execution_count": 150,
   "metadata": {
    "scrolled": true
   },
   "outputs": [],
   "source": [
    "def func(graph):\n",
    "    return pd.DataFrame.from_dict(dict(graph.nodes(data=True)), orient='index')"
   ]
  },
  {
   "cell_type": "code",
   "execution_count": 151,
   "metadata": {
    "scrolled": true
   },
   "outputs": [],
   "source": [
    "ndf = func(g)"
   ]
  },
  {
   "cell_type": "code",
   "execution_count": 236,
   "metadata": {},
   "outputs": [],
   "source": [
    "ndf[\"degree\"] = [g.degree()[x] for x in ndf.index]"
   ]
  },
  {
   "cell_type": "code",
   "execution_count": 243,
   "metadata": {},
   "outputs": [
    {
     "data": {
      "text/plain": [
       "(365, 29)"
      ]
     },
     "execution_count": 243,
     "metadata": {},
     "output_type": "execute_result"
    }
   ],
   "source": [
    "ndf[ndf[\"partition\"] == \"shell\")]"
   ]
  },
  {
   "cell_type": "code",
   "execution_count": 161,
   "metadata": {
    "scrolled": true
   },
   "outputs": [
    {
     "data": {
      "text/plain": [
       "hypothetical protein                                                        7311\n",
       "HTH-type transcriptional regulator DmlR                                       43\n",
       "Sensor histidine kinase RcsC                                                  37\n",
       "Adaptive-response sensory-kinase SasA                                         27\n",
       "putative protein                                                              23\n",
       "                                                                            ... \n",
       "Cob(I)yrinic acid a%2Cc-diamide adenosyltransferase                            1\n",
       "30S ribosomal protein S20                                                      1\n",
       "Nucleoid occlusion factor SlmA                                                 1\n",
       "6-phosphogluconate dehydrogenase%2C NADP(+)-dependent%2C decarboxylating       1\n",
       "30S ribosomal protein S3                                                       1\n",
       "Name: product, Length: 2572, dtype: int64"
      ]
     },
     "execution_count": 161,
     "metadata": {},
     "output_type": "execute_result"
    }
   ],
   "source": [
    "ndf[\"product\"].value_counts()"
   ]
  },
  {
   "cell_type": "code",
   "execution_count": 254,
   "metadata": {},
   "outputs": [
    {
     "data": {
      "text/plain": [
       "persistent    41\n",
       "cloud         41\n",
       "shell          4\n",
       "Name: partition, dtype: int64"
      ]
     },
     "execution_count": 254,
     "metadata": {},
     "output_type": "execute_result"
    }
   ],
   "source": [
    "ndf[ndf[\"product\"].apply(\n",
    "    lambda s: \"drug\" in s or \"vir\" in s.lower())][\"partition\"].value_counts()"
   ]
  },
  {
   "cell_type": "code",
   "execution_count": 246,
   "metadata": {
    "scrolled": true
   },
   "outputs": [
    {
     "data": {
      "text/html": [
       "<div>\n",
       "<style scoped>\n",
       "    .dataframe tbody tr th:only-of-type {\n",
       "        vertical-align: middle;\n",
       "    }\n",
       "\n",
       "    .dataframe tbody tr th {\n",
       "        vertical-align: top;\n",
       "    }\n",
       "\n",
       "    .dataframe thead th {\n",
       "        text-align: right;\n",
       "    }\n",
       "</style>\n",
       "<table border=\"1\" class=\"dataframe\">\n",
       "  <thead>\n",
       "    <tr style=\"text-align: right;\">\n",
       "      <th></th>\n",
       "      <th>nb_genes</th>\n",
       "      <th>name</th>\n",
       "      <th>product</th>\n",
       "      <th>type</th>\n",
       "      <th>partition</th>\n",
       "      <th>subpartition</th>\n",
       "      <th>partition_exact</th>\n",
       "      <th>partition_soft</th>\n",
       "      <th>length_avg</th>\n",
       "      <th>length_med</th>\n",
       "      <th>...</th>\n",
       "      <th>viz</th>\n",
       "      <th>label</th>\n",
       "      <th>Vibrio_coralliilyticus_OCN014</th>\n",
       "      <th>Vibrio_coralliilyticus_080116A</th>\n",
       "      <th>Vibrio_coralliilyticus_RE98</th>\n",
       "      <th>Vibrio_coralliilyticus_NA0301</th>\n",
       "      <th>Vibrio_coralliilyticus_58</th>\n",
       "      <th>Vibrio_coralliilyticus_RE87</th>\n",
       "      <th>Vibrio_coralliilyticus_P1</th>\n",
       "      <th>degree</th>\n",
       "    </tr>\n",
       "  </thead>\n",
       "  <tbody>\n",
       "    <tr>\n",
       "      <td>432</td>\n",
       "      <td>9</td>\n",
       "      <td>dltA_1</td>\n",
       "      <td>D-alanine--poly(phosphoribitol) ligase subunit 1</td>\n",
       "      <td>CDS</td>\n",
       "      <td>shell</td>\n",
       "      <td>S1</td>\n",
       "      <td>exact_accessory</td>\n",
       "      <td>soft_accessory</td>\n",
       "      <td>11710.67</td>\n",
       "      <td>11975</td>\n",
       "      <td>...</td>\n",
       "      <td>{'color': {'r': 0, 'g': 216, 'b': 96, 'a': 0.0...</td>\n",
       "      <td>ACOGLMFH_00636</td>\n",
       "      <td>AADFBFMN_04620</td>\n",
       "      <td>NaN</td>\n",
       "      <td>NaN</td>\n",
       "      <td>PNJLNNEM_01823</td>\n",
       "      <td>NaN</td>\n",
       "      <td>ACOGLMFH_00636</td>\n",
       "      <td>AHGDBNMD_02329</td>\n",
       "      <td>4</td>\n",
       "    </tr>\n",
       "    <tr>\n",
       "      <td>697</td>\n",
       "      <td>5</td>\n",
       "      <td>ompA_1</td>\n",
       "      <td>Outer membrane protein A</td>\n",
       "      <td>CDS</td>\n",
       "      <td>shell</td>\n",
       "      <td>S1</td>\n",
       "      <td>exact_accessory</td>\n",
       "      <td>soft_accessory</td>\n",
       "      <td>590.00</td>\n",
       "      <td>590</td>\n",
       "      <td>...</td>\n",
       "      <td>{'color': {'r': 0, 'g': 216, 'b': 96, 'a': 0.0...</td>\n",
       "      <td>CPFIEJMN_02738</td>\n",
       "      <td>NaN</td>\n",
       "      <td>PFGAHHNN_01310</td>\n",
       "      <td>HCPBJEEI_04482</td>\n",
       "      <td>PNJLNNEM_02760</td>\n",
       "      <td>NaN</td>\n",
       "      <td>ACOGLMFH_04830</td>\n",
       "      <td>NaN</td>\n",
       "      <td>2</td>\n",
       "    </tr>\n",
       "    <tr>\n",
       "      <td>881</td>\n",
       "      <td>10</td>\n",
       "      <td>mdtH_2</td>\n",
       "      <td>Multidrug resistance protein MdtH</td>\n",
       "      <td>CDS</td>\n",
       "      <td>shell</td>\n",
       "      <td>S1</td>\n",
       "      <td>exact_accessory</td>\n",
       "      <td>soft_accessory</td>\n",
       "      <td>1244.00</td>\n",
       "      <td>1244</td>\n",
       "      <td>...</td>\n",
       "      <td>{'color': {'r': 0, 'g': 216, 'b': 96, 'a': 0.0...</td>\n",
       "      <td>AHGDBNMD_00124</td>\n",
       "      <td>AADFBFMN_01085|AADFBFMN_05040</td>\n",
       "      <td>PFGAHHNN_01653</td>\n",
       "      <td>NaN</td>\n",
       "      <td>PNJLNNEM_03849</td>\n",
       "      <td>NaN</td>\n",
       "      <td>ACOGLMFH_02478</td>\n",
       "      <td>AHGDBNMD_00124</td>\n",
       "      <td>3</td>\n",
       "    </tr>\n",
       "    <tr>\n",
       "      <td>939</td>\n",
       "      <td>7</td>\n",
       "      <td>srrA</td>\n",
       "      <td>Transcriptional regulatory protein SrrA</td>\n",
       "      <td>CDS</td>\n",
       "      <td>shell</td>\n",
       "      <td>S1</td>\n",
       "      <td>exact_accessory</td>\n",
       "      <td>soft_accessory</td>\n",
       "      <td>752.00</td>\n",
       "      <td>752</td>\n",
       "      <td>...</td>\n",
       "      <td>{'color': {'r': 0, 'g': 216, 'b': 96, 'a': 0.0...</td>\n",
       "      <td>CPFIEJMN_01553</td>\n",
       "      <td>AADFBFMN_04129</td>\n",
       "      <td>PFGAHHNN_00228</td>\n",
       "      <td>HCPBJEEI_03935</td>\n",
       "      <td>PNJLNNEM_01352</td>\n",
       "      <td>NaN</td>\n",
       "      <td>NaN</td>\n",
       "      <td>NaN</td>\n",
       "      <td>2</td>\n",
       "    </tr>\n",
       "    <tr>\n",
       "      <td>1329</td>\n",
       "      <td>11</td>\n",
       "      <td>yidK</td>\n",
       "      <td>putative symporter YidK</td>\n",
       "      <td>CDS</td>\n",
       "      <td>shell</td>\n",
       "      <td>S1</td>\n",
       "      <td>exact_accessory</td>\n",
       "      <td>soft_accessory</td>\n",
       "      <td>1768.73</td>\n",
       "      <td>1769</td>\n",
       "      <td>...</td>\n",
       "      <td>{'color': {'r': 0, 'g': 216, 'b': 96, 'a': 0.0...</td>\n",
       "      <td>ACOGLMFH_02004</td>\n",
       "      <td>AADFBFMN_05288</td>\n",
       "      <td>PFGAHHNN_02167</td>\n",
       "      <td>HCPBJEEI_05249</td>\n",
       "      <td>PNJLNNEM_04058</td>\n",
       "      <td>NaN</td>\n",
       "      <td>ACOGLMFH_02004|ACOGLMFH_03102</td>\n",
       "      <td>AHGDBNMD_01820</td>\n",
       "      <td>5</td>\n",
       "    </tr>\n",
       "    <tr>\n",
       "      <td>...</td>\n",
       "      <td>...</td>\n",
       "      <td>...</td>\n",
       "      <td>...</td>\n",
       "      <td>...</td>\n",
       "      <td>...</td>\n",
       "      <td>...</td>\n",
       "      <td>...</td>\n",
       "      <td>...</td>\n",
       "      <td>...</td>\n",
       "      <td>...</td>\n",
       "      <td>...</td>\n",
       "      <td>...</td>\n",
       "      <td>...</td>\n",
       "      <td>...</td>\n",
       "      <td>...</td>\n",
       "      <td>...</td>\n",
       "      <td>...</td>\n",
       "      <td>...</td>\n",
       "      <td>...</td>\n",
       "      <td>...</td>\n",
       "      <td>...</td>\n",
       "    </tr>\n",
       "    <tr>\n",
       "      <td>12181</td>\n",
       "      <td>8</td>\n",
       "      <td>oppD_4</td>\n",
       "      <td>Oligopeptide transport ATP-binding protein OppD</td>\n",
       "      <td>CDS</td>\n",
       "      <td>shell</td>\n",
       "      <td>S1</td>\n",
       "      <td>exact_accessory</td>\n",
       "      <td>soft_accessory</td>\n",
       "      <td>761.00</td>\n",
       "      <td>761</td>\n",
       "      <td>...</td>\n",
       "      <td>{'color': {'r': 0, 'g': 216, 'b': 96, 'a': 0.0...</td>\n",
       "      <td>CPFIEJMN_02603</td>\n",
       "      <td>AADFBFMN_03517</td>\n",
       "      <td>PFGAHHNN_01188</td>\n",
       "      <td>HCPBJEEI_04605</td>\n",
       "      <td>PNJLNNEM_02883</td>\n",
       "      <td>NaN</td>\n",
       "      <td>ACOGLMFH_04708</td>\n",
       "      <td>NaN</td>\n",
       "      <td>3</td>\n",
       "    </tr>\n",
       "    <tr>\n",
       "      <td>12293</td>\n",
       "      <td>8</td>\n",
       "      <td>dmlR_20</td>\n",
       "      <td>HTH-type transcriptional regulator DmlR</td>\n",
       "      <td>CDS</td>\n",
       "      <td>shell</td>\n",
       "      <td>S1</td>\n",
       "      <td>exact_accessory</td>\n",
       "      <td>soft_accessory</td>\n",
       "      <td>896.00</td>\n",
       "      <td>896</td>\n",
       "      <td>...</td>\n",
       "      <td>{'color': {'r': 0, 'g': 216, 'b': 96, 'a': 0.0...</td>\n",
       "      <td>AADFBFMN_04970</td>\n",
       "      <td>AADFBFMN_04970</td>\n",
       "      <td>PFGAHHNN_01052</td>\n",
       "      <td>HCPBJEEI_04842</td>\n",
       "      <td>NaN</td>\n",
       "      <td>NaN</td>\n",
       "      <td>ACOGLMFH_05090</td>\n",
       "      <td>NaN</td>\n",
       "      <td>3</td>\n",
       "    </tr>\n",
       "    <tr>\n",
       "      <td>12315</td>\n",
       "      <td>7</td>\n",
       "      <td>nrdF2</td>\n",
       "      <td>Ribonucleoside-diphosphate reductase subunit b...</td>\n",
       "      <td>CDS</td>\n",
       "      <td>shell</td>\n",
       "      <td>S1</td>\n",
       "      <td>exact_accessory</td>\n",
       "      <td>soft_accessory</td>\n",
       "      <td>967.57</td>\n",
       "      <td>974</td>\n",
       "      <td>...</td>\n",
       "      <td>{'color': {'r': 0, 'g': 216, 'b': 96, 'a': 0.0...</td>\n",
       "      <td>NFFLFIEF_02360</td>\n",
       "      <td>AADFBFMN_04350</td>\n",
       "      <td>PFGAHHNN_00443</td>\n",
       "      <td>NaN</td>\n",
       "      <td>NaN</td>\n",
       "      <td>NaN</td>\n",
       "      <td>ACOGLMFH_00372</td>\n",
       "      <td>NaN</td>\n",
       "      <td>2</td>\n",
       "    </tr>\n",
       "    <tr>\n",
       "      <td>12316</td>\n",
       "      <td>7</td>\n",
       "      <td>sufB</td>\n",
       "      <td>FeS cluster assembly protein SufB</td>\n",
       "      <td>CDS</td>\n",
       "      <td>shell</td>\n",
       "      <td>S1</td>\n",
       "      <td>exact_accessory</td>\n",
       "      <td>soft_accessory</td>\n",
       "      <td>1463.00</td>\n",
       "      <td>1463</td>\n",
       "      <td>...</td>\n",
       "      <td>{'color': {'r': 0, 'g': 216, 'b': 96, 'a': 0.0...</td>\n",
       "      <td>NFFLFIEF_02365</td>\n",
       "      <td>AADFBFMN_04345</td>\n",
       "      <td>PFGAHHNN_00438</td>\n",
       "      <td>NaN</td>\n",
       "      <td>NaN</td>\n",
       "      <td>NaN</td>\n",
       "      <td>ACOGLMFH_00367</td>\n",
       "      <td>NaN</td>\n",
       "      <td>2</td>\n",
       "    </tr>\n",
       "    <tr>\n",
       "      <td>12317</td>\n",
       "      <td>7</td>\n",
       "      <td>sufS_1</td>\n",
       "      <td>Cysteine desulfurase</td>\n",
       "      <td>CDS</td>\n",
       "      <td>shell</td>\n",
       "      <td>S1</td>\n",
       "      <td>exact_accessory</td>\n",
       "      <td>soft_accessory</td>\n",
       "      <td>1229.00</td>\n",
       "      <td>1229</td>\n",
       "      <td>...</td>\n",
       "      <td>{'color': {'r': 0, 'g': 216, 'b': 96, 'a': 0.0...</td>\n",
       "      <td>NFFLFIEF_02368</td>\n",
       "      <td>AADFBFMN_04342</td>\n",
       "      <td>PFGAHHNN_00435</td>\n",
       "      <td>NaN</td>\n",
       "      <td>NaN</td>\n",
       "      <td>NaN</td>\n",
       "      <td>ACOGLMFH_00364</td>\n",
       "      <td>NaN</td>\n",
       "      <td>2</td>\n",
       "    </tr>\n",
       "  </tbody>\n",
       "</table>\n",
       "<p>135 rows × 29 columns</p>\n",
       "</div>"
      ],
      "text/plain": [
       "       nb_genes     name                                            product  \\\n",
       "432           9   dltA_1   D-alanine--poly(phosphoribitol) ligase subunit 1   \n",
       "697           5   ompA_1                           Outer membrane protein A   \n",
       "881          10   mdtH_2                  Multidrug resistance protein MdtH   \n",
       "939           7     srrA            Transcriptional regulatory protein SrrA   \n",
       "1329         11     yidK                            putative symporter YidK   \n",
       "...         ...      ...                                                ...   \n",
       "12181         8   oppD_4    Oligopeptide transport ATP-binding protein OppD   \n",
       "12293         8  dmlR_20            HTH-type transcriptional regulator DmlR   \n",
       "12315         7    nrdF2  Ribonucleoside-diphosphate reductase subunit b...   \n",
       "12316         7     sufB                  FeS cluster assembly protein SufB   \n",
       "12317         7   sufS_1                               Cysteine desulfurase   \n",
       "\n",
       "      type partition subpartition  partition_exact  partition_soft  \\\n",
       "432    CDS     shell           S1  exact_accessory  soft_accessory   \n",
       "697    CDS     shell           S1  exact_accessory  soft_accessory   \n",
       "881    CDS     shell           S1  exact_accessory  soft_accessory   \n",
       "939    CDS     shell           S1  exact_accessory  soft_accessory   \n",
       "1329   CDS     shell           S1  exact_accessory  soft_accessory   \n",
       "...    ...       ...          ...              ...             ...   \n",
       "12181  CDS     shell           S1  exact_accessory  soft_accessory   \n",
       "12293  CDS     shell           S1  exact_accessory  soft_accessory   \n",
       "12315  CDS     shell           S1  exact_accessory  soft_accessory   \n",
       "12316  CDS     shell           S1  exact_accessory  soft_accessory   \n",
       "12317  CDS     shell           S1  exact_accessory  soft_accessory   \n",
       "\n",
       "       length_avg  length_med  ...  \\\n",
       "432      11710.67       11975  ...   \n",
       "697        590.00         590  ...   \n",
       "881       1244.00        1244  ...   \n",
       "939        752.00         752  ...   \n",
       "1329      1768.73        1769  ...   \n",
       "...           ...         ...  ...   \n",
       "12181      761.00         761  ...   \n",
       "12293      896.00         896  ...   \n",
       "12315      967.57         974  ...   \n",
       "12316     1463.00        1463  ...   \n",
       "12317     1229.00        1229  ...   \n",
       "\n",
       "                                                     viz           label  \\\n",
       "432    {'color': {'r': 0, 'g': 216, 'b': 96, 'a': 0.0...  ACOGLMFH_00636   \n",
       "697    {'color': {'r': 0, 'g': 216, 'b': 96, 'a': 0.0...  CPFIEJMN_02738   \n",
       "881    {'color': {'r': 0, 'g': 216, 'b': 96, 'a': 0.0...  AHGDBNMD_00124   \n",
       "939    {'color': {'r': 0, 'g': 216, 'b': 96, 'a': 0.0...  CPFIEJMN_01553   \n",
       "1329   {'color': {'r': 0, 'g': 216, 'b': 96, 'a': 0.0...  ACOGLMFH_02004   \n",
       "...                                                  ...             ...   \n",
       "12181  {'color': {'r': 0, 'g': 216, 'b': 96, 'a': 0.0...  CPFIEJMN_02603   \n",
       "12293  {'color': {'r': 0, 'g': 216, 'b': 96, 'a': 0.0...  AADFBFMN_04970   \n",
       "12315  {'color': {'r': 0, 'g': 216, 'b': 96, 'a': 0.0...  NFFLFIEF_02360   \n",
       "12316  {'color': {'r': 0, 'g': 216, 'b': 96, 'a': 0.0...  NFFLFIEF_02365   \n",
       "12317  {'color': {'r': 0, 'g': 216, 'b': 96, 'a': 0.0...  NFFLFIEF_02368   \n",
       "\n",
       "       Vibrio_coralliilyticus_OCN014 Vibrio_coralliilyticus_080116A  \\\n",
       "432                   AADFBFMN_04620                            NaN   \n",
       "697                              NaN                 PFGAHHNN_01310   \n",
       "881    AADFBFMN_01085|AADFBFMN_05040                 PFGAHHNN_01653   \n",
       "939                   AADFBFMN_04129                 PFGAHHNN_00228   \n",
       "1329                  AADFBFMN_05288                 PFGAHHNN_02167   \n",
       "...                              ...                            ...   \n",
       "12181                 AADFBFMN_03517                 PFGAHHNN_01188   \n",
       "12293                 AADFBFMN_04970                 PFGAHHNN_01052   \n",
       "12315                 AADFBFMN_04350                 PFGAHHNN_00443   \n",
       "12316                 AADFBFMN_04345                 PFGAHHNN_00438   \n",
       "12317                 AADFBFMN_04342                 PFGAHHNN_00435   \n",
       "\n",
       "      Vibrio_coralliilyticus_RE98 Vibrio_coralliilyticus_NA0301  \\\n",
       "432                           NaN                PNJLNNEM_01823   \n",
       "697                HCPBJEEI_04482                PNJLNNEM_02760   \n",
       "881                           NaN                PNJLNNEM_03849   \n",
       "939                HCPBJEEI_03935                PNJLNNEM_01352   \n",
       "1329               HCPBJEEI_05249                PNJLNNEM_04058   \n",
       "...                           ...                           ...   \n",
       "12181              HCPBJEEI_04605                PNJLNNEM_02883   \n",
       "12293              HCPBJEEI_04842                           NaN   \n",
       "12315                         NaN                           NaN   \n",
       "12316                         NaN                           NaN   \n",
       "12317                         NaN                           NaN   \n",
       "\n",
       "      Vibrio_coralliilyticus_58    Vibrio_coralliilyticus_RE87  \\\n",
       "432                         NaN                 ACOGLMFH_00636   \n",
       "697                         NaN                 ACOGLMFH_04830   \n",
       "881                         NaN                 ACOGLMFH_02478   \n",
       "939                         NaN                            NaN   \n",
       "1329                        NaN  ACOGLMFH_02004|ACOGLMFH_03102   \n",
       "...                         ...                            ...   \n",
       "12181                       NaN                 ACOGLMFH_04708   \n",
       "12293                       NaN                 ACOGLMFH_05090   \n",
       "12315                       NaN                 ACOGLMFH_00372   \n",
       "12316                       NaN                 ACOGLMFH_00367   \n",
       "12317                       NaN                 ACOGLMFH_00364   \n",
       "\n",
       "      Vibrio_coralliilyticus_P1 degree  \n",
       "432              AHGDBNMD_02329      4  \n",
       "697                         NaN      2  \n",
       "881              AHGDBNMD_00124      3  \n",
       "939                         NaN      2  \n",
       "1329             AHGDBNMD_01820      5  \n",
       "...                         ...    ...  \n",
       "12181                       NaN      3  \n",
       "12293                       NaN      3  \n",
       "12315                       NaN      2  \n",
       "12316                       NaN      2  \n",
       "12317                       NaN      2  \n",
       "\n",
       "[135 rows x 29 columns]"
      ]
     },
     "execution_count": 246,
     "metadata": {},
     "output_type": "execute_result"
    }
   ],
   "source": [
    "ndf[\n",
    "    (ndf[\"partition\"] == \"shell\") &\n",
    "    (ndf[\"product\"] != \"hypothetical protein\")\n",
    "]"
   ]
  },
  {
   "cell_type": "code",
   "execution_count": 178,
   "metadata": {
    "scrolled": true
   },
   "outputs": [
    {
     "data": {
      "text/html": [
       "<div>\n",
       "<style scoped>\n",
       "    .dataframe tbody tr th:only-of-type {\n",
       "        vertical-align: middle;\n",
       "    }\n",
       "\n",
       "    .dataframe tbody tr th {\n",
       "        vertical-align: top;\n",
       "    }\n",
       "\n",
       "    .dataframe thead th {\n",
       "        text-align: right;\n",
       "    }\n",
       "</style>\n",
       "<table border=\"1\" class=\"dataframe\">\n",
       "  <thead>\n",
       "    <tr style=\"text-align: right;\">\n",
       "      <th></th>\n",
       "      <th>nb_genes</th>\n",
       "      <th>name</th>\n",
       "      <th>product</th>\n",
       "      <th>type</th>\n",
       "      <th>partition</th>\n",
       "      <th>subpartition</th>\n",
       "      <th>partition_exact</th>\n",
       "      <th>partition_soft</th>\n",
       "      <th>length_avg</th>\n",
       "      <th>length_med</th>\n",
       "      <th>...</th>\n",
       "      <th>Vibrio_coralliilyticus_S2043</th>\n",
       "      <th>viz</th>\n",
       "      <th>label</th>\n",
       "      <th>Vibrio_coralliilyticus_OCN014</th>\n",
       "      <th>Vibrio_coralliilyticus_080116A</th>\n",
       "      <th>Vibrio_coralliilyticus_RE98</th>\n",
       "      <th>Vibrio_coralliilyticus_NA0301</th>\n",
       "      <th>Vibrio_coralliilyticus_58</th>\n",
       "      <th>Vibrio_coralliilyticus_RE87</th>\n",
       "      <th>Vibrio_coralliilyticus_P1</th>\n",
       "    </tr>\n",
       "  </thead>\n",
       "  <tbody>\n",
       "    <tr>\n",
       "      <td>3177</td>\n",
       "      <td>11</td>\n",
       "      <td></td>\n",
       "      <td>hypothetical protein</td>\n",
       "      <td>CDS</td>\n",
       "      <td>cloud</td>\n",
       "      <td>C</td>\n",
       "      <td>exact_accessory</td>\n",
       "      <td>soft_accessory</td>\n",
       "      <td>152.00</td>\n",
       "      <td>152</td>\n",
       "      <td>...</td>\n",
       "      <td>NaN</td>\n",
       "      <td>{'color': {'r': 121, 'g': 222, 'b': 255, 'a': ...</td>\n",
       "      <td>AHGDBNMD_04325</td>\n",
       "      <td>NaN</td>\n",
       "      <td>NaN</td>\n",
       "      <td>HCPBJEEI_04148</td>\n",
       "      <td>PNJLNNEM_04030|PNJLNNEM_04705|PNJLNNEM_02405</td>\n",
       "      <td>FLLLBHKB_03396|FLLLBHKB_00292</td>\n",
       "      <td>ACOGLMFH_02275</td>\n",
       "      <td>AHGDBNMD_04325</td>\n",
       "    </tr>\n",
       "    <tr>\n",
       "      <td>3178</td>\n",
       "      <td>11</td>\n",
       "      <td></td>\n",
       "      <td>hypothetical protein</td>\n",
       "      <td>CDS</td>\n",
       "      <td>cloud</td>\n",
       "      <td>C</td>\n",
       "      <td>exact_accessory</td>\n",
       "      <td>soft_accessory</td>\n",
       "      <td>215.00</td>\n",
       "      <td>215</td>\n",
       "      <td>...</td>\n",
       "      <td>NaN</td>\n",
       "      <td>{'color': {'r': 121, 'g': 222, 'b': 255, 'a': ...</td>\n",
       "      <td>AHGDBNMD_04326</td>\n",
       "      <td>NaN</td>\n",
       "      <td>NaN</td>\n",
       "      <td>HCPBJEEI_04147</td>\n",
       "      <td>PNJLNNEM_04706|PNJLNNEM_02404|PNJLNNEM_04029</td>\n",
       "      <td>FLLLBHKB_00291|FLLLBHKB_03395</td>\n",
       "      <td>ACOGLMFH_02274</td>\n",
       "      <td>AHGDBNMD_04326</td>\n",
       "    </tr>\n",
       "    <tr>\n",
       "      <td>5133</td>\n",
       "      <td>11</td>\n",
       "      <td></td>\n",
       "      <td>hypothetical protein</td>\n",
       "      <td>CDS</td>\n",
       "      <td>cloud</td>\n",
       "      <td>C</td>\n",
       "      <td>exact_accessory</td>\n",
       "      <td>soft_accessory</td>\n",
       "      <td>482.00</td>\n",
       "      <td>482</td>\n",
       "      <td>...</td>\n",
       "      <td>GIHCKAFH_00200|GIHCKAFH_00164</td>\n",
       "      <td>{'color': {'r': 121, 'g': 222, 'b': 255, 'a': ...</td>\n",
       "      <td>FKIKDOPA_04975</td>\n",
       "      <td>NaN</td>\n",
       "      <td>NaN</td>\n",
       "      <td>NaN</td>\n",
       "      <td>PNJLNNEM_04369</td>\n",
       "      <td>FLLLBHKB_00536|FLLLBHKB_00515</td>\n",
       "      <td>NaN</td>\n",
       "      <td>NaN</td>\n",
       "    </tr>\n",
       "    <tr>\n",
       "      <td>8722</td>\n",
       "      <td>11</td>\n",
       "      <td></td>\n",
       "      <td>IS200/IS605 family transposase ISSham1</td>\n",
       "      <td>CDS</td>\n",
       "      <td>cloud</td>\n",
       "      <td>C</td>\n",
       "      <td>exact_accessory</td>\n",
       "      <td>soft_accessory</td>\n",
       "      <td>446.00</td>\n",
       "      <td>446</td>\n",
       "      <td>...</td>\n",
       "      <td>GIHCKAFH_04830</td>\n",
       "      <td>{'color': {'r': 121, 'g': 222, 'b': 255, 'a': ...</td>\n",
       "      <td>CPFIEJMN_00957</td>\n",
       "      <td>NaN</td>\n",
       "      <td>NaN</td>\n",
       "      <td>HCPBJEEI_02816</td>\n",
       "      <td>NaN</td>\n",
       "      <td>NaN</td>\n",
       "      <td>NaN</td>\n",
       "      <td>NaN</td>\n",
       "    </tr>\n",
       "    <tr>\n",
       "      <td>12013</td>\n",
       "      <td>10</td>\n",
       "      <td></td>\n",
       "      <td>hypothetical protein</td>\n",
       "      <td>CDS</td>\n",
       "      <td>cloud</td>\n",
       "      <td>C</td>\n",
       "      <td>exact_accessory</td>\n",
       "      <td>soft_accessory</td>\n",
       "      <td>422.90</td>\n",
       "      <td>428</td>\n",
       "      <td>...</td>\n",
       "      <td>NaN</td>\n",
       "      <td>{'color': {'r': 121, 'g': 222, 'b': 255, 'a': ...</td>\n",
       "      <td>FLLLBHKB_00295</td>\n",
       "      <td>NaN</td>\n",
       "      <td>NaN</td>\n",
       "      <td>HCPBJEEI_04151</td>\n",
       "      <td>PNJLNNEM_04702|PNJLNNEM_04033|PNJLNNEM_02408</td>\n",
       "      <td>FLLLBHKB_00295|FLLLBHKB_03400</td>\n",
       "      <td>ACOGLMFH_02278</td>\n",
       "      <td>AHGDBNMD_04321</td>\n",
       "    </tr>\n",
       "    <tr>\n",
       "      <td>2669</td>\n",
       "      <td>9</td>\n",
       "      <td></td>\n",
       "      <td>hypothetical protein</td>\n",
       "      <td>CDS</td>\n",
       "      <td>cloud</td>\n",
       "      <td>C</td>\n",
       "      <td>exact_accessory</td>\n",
       "      <td>soft_accessory</td>\n",
       "      <td>383.00</td>\n",
       "      <td>383</td>\n",
       "      <td>...</td>\n",
       "      <td>GIHCKAFH_01936|GIHCKAFH_01946</td>\n",
       "      <td>{'color': {'r': 121, 'g': 222, 'b': 255, 'a': ...</td>\n",
       "      <td>AHGDBNMD_04014</td>\n",
       "      <td>AADFBFMN_05101</td>\n",
       "      <td>NaN</td>\n",
       "      <td>NaN</td>\n",
       "      <td>PNJLNNEM_03893</td>\n",
       "      <td>NaN</td>\n",
       "      <td>NaN</td>\n",
       "      <td>AHGDBNMD_04014</td>\n",
       "    </tr>\n",
       "    <tr>\n",
       "      <td>311</td>\n",
       "      <td>8</td>\n",
       "      <td></td>\n",
       "      <td>hypothetical protein</td>\n",
       "      <td>CDS</td>\n",
       "      <td>cloud</td>\n",
       "      <td>C</td>\n",
       "      <td>exact_accessory</td>\n",
       "      <td>soft_accessory</td>\n",
       "      <td>497.38</td>\n",
       "      <td>509</td>\n",
       "      <td>...</td>\n",
       "      <td>GIHCKAFH_01942</td>\n",
       "      <td>{'color': {'r': 121, 'g': 222, 'b': 255, 'a': ...</td>\n",
       "      <td>FKIKDOPA_03417</td>\n",
       "      <td>AADFBFMN_01782|AADFBFMN_05095</td>\n",
       "      <td>PFGAHHNN_01580</td>\n",
       "      <td>NaN</td>\n",
       "      <td>PNJLNNEM_04380|PNJLNNEM_03897</td>\n",
       "      <td>NaN</td>\n",
       "      <td>NaN</td>\n",
       "      <td>NaN</td>\n",
       "    </tr>\n",
       "    <tr>\n",
       "      <td>4407</td>\n",
       "      <td>8</td>\n",
       "      <td></td>\n",
       "      <td>hypothetical protein</td>\n",
       "      <td>CDS</td>\n",
       "      <td>cloud</td>\n",
       "      <td>C</td>\n",
       "      <td>exact_accessory</td>\n",
       "      <td>soft_accessory</td>\n",
       "      <td>1343.38</td>\n",
       "      <td>1355</td>\n",
       "      <td>...</td>\n",
       "      <td>GIHCKAFH_04194</td>\n",
       "      <td>{'color': {'r': 121, 'g': 222, 'b': 255, 'a': ...</td>\n",
       "      <td>AHGDBNMD_01864</td>\n",
       "      <td>NaN</td>\n",
       "      <td>NaN</td>\n",
       "      <td>NaN</td>\n",
       "      <td>PNJLNNEM_03563</td>\n",
       "      <td>FLLLBHKB_00776</td>\n",
       "      <td>NaN</td>\n",
       "      <td>AHGDBNMD_01864</td>\n",
       "    </tr>\n",
       "    <tr>\n",
       "      <td>4453</td>\n",
       "      <td>8</td>\n",
       "      <td></td>\n",
       "      <td>hypothetical protein</td>\n",
       "      <td>CDS</td>\n",
       "      <td>cloud</td>\n",
       "      <td>C</td>\n",
       "      <td>exact_accessory</td>\n",
       "      <td>soft_accessory</td>\n",
       "      <td>473.75</td>\n",
       "      <td>488</td>\n",
       "      <td>...</td>\n",
       "      <td>NaN</td>\n",
       "      <td>{'color': {'r': 121, 'g': 222, 'b': 255, 'a': ...</td>\n",
       "      <td>AHGDBNMD_03994</td>\n",
       "      <td>NaN</td>\n",
       "      <td>NaN</td>\n",
       "      <td>NaN</td>\n",
       "      <td>PNJLNNEM_04699|PNJLNNEM_01752</td>\n",
       "      <td>NaN</td>\n",
       "      <td>NaN</td>\n",
       "      <td>AHGDBNMD_03994</td>\n",
       "    </tr>\n",
       "    <tr>\n",
       "      <td>6559</td>\n",
       "      <td>8</td>\n",
       "      <td></td>\n",
       "      <td>hypothetical protein</td>\n",
       "      <td>CDS</td>\n",
       "      <td>cloud</td>\n",
       "      <td>C</td>\n",
       "      <td>exact_accessory</td>\n",
       "      <td>soft_accessory</td>\n",
       "      <td>107.00</td>\n",
       "      <td>107</td>\n",
       "      <td>...</td>\n",
       "      <td>NaN</td>\n",
       "      <td>{'color': {'r': 121, 'g': 222, 'b': 255, 'a': ...</td>\n",
       "      <td>NFFLFIEF_01581</td>\n",
       "      <td>NaN</td>\n",
       "      <td>NaN</td>\n",
       "      <td>NaN</td>\n",
       "      <td>NaN</td>\n",
       "      <td>NaN</td>\n",
       "      <td>NaN</td>\n",
       "      <td>NaN</td>\n",
       "    </tr>\n",
       "  </tbody>\n",
       "</table>\n",
       "<p>10 rows × 28 columns</p>\n",
       "</div>"
      ],
      "text/plain": [
       "       nb_genes name                                 product type partition  \\\n",
       "3177         11                         hypothetical protein  CDS     cloud   \n",
       "3178         11                         hypothetical protein  CDS     cloud   \n",
       "5133         11                         hypothetical protein  CDS     cloud   \n",
       "8722         11       IS200/IS605 family transposase ISSham1  CDS     cloud   \n",
       "12013        10                         hypothetical protein  CDS     cloud   \n",
       "2669          9                         hypothetical protein  CDS     cloud   \n",
       "311           8                         hypothetical protein  CDS     cloud   \n",
       "4407          8                         hypothetical protein  CDS     cloud   \n",
       "4453          8                         hypothetical protein  CDS     cloud   \n",
       "6559          8                         hypothetical protein  CDS     cloud   \n",
       "\n",
       "      subpartition  partition_exact  partition_soft  length_avg  length_med  \\\n",
       "3177             C  exact_accessory  soft_accessory      152.00         152   \n",
       "3178             C  exact_accessory  soft_accessory      215.00         215   \n",
       "5133             C  exact_accessory  soft_accessory      482.00         482   \n",
       "8722             C  exact_accessory  soft_accessory      446.00         446   \n",
       "12013            C  exact_accessory  soft_accessory      422.90         428   \n",
       "2669             C  exact_accessory  soft_accessory      383.00         383   \n",
       "311              C  exact_accessory  soft_accessory      497.38         509   \n",
       "4407             C  exact_accessory  soft_accessory     1343.38        1355   \n",
       "4453             C  exact_accessory  soft_accessory      473.75         488   \n",
       "6559             C  exact_accessory  soft_accessory      107.00         107   \n",
       "\n",
       "       ...   Vibrio_coralliilyticus_S2043  \\\n",
       "3177   ...                            NaN   \n",
       "3178   ...                            NaN   \n",
       "5133   ...  GIHCKAFH_00200|GIHCKAFH_00164   \n",
       "8722   ...                 GIHCKAFH_04830   \n",
       "12013  ...                            NaN   \n",
       "2669   ...  GIHCKAFH_01936|GIHCKAFH_01946   \n",
       "311    ...                 GIHCKAFH_01942   \n",
       "4407   ...                 GIHCKAFH_04194   \n",
       "4453   ...                            NaN   \n",
       "6559   ...                            NaN   \n",
       "\n",
       "                                                     viz           label  \\\n",
       "3177   {'color': {'r': 121, 'g': 222, 'b': 255, 'a': ...  AHGDBNMD_04325   \n",
       "3178   {'color': {'r': 121, 'g': 222, 'b': 255, 'a': ...  AHGDBNMD_04326   \n",
       "5133   {'color': {'r': 121, 'g': 222, 'b': 255, 'a': ...  FKIKDOPA_04975   \n",
       "8722   {'color': {'r': 121, 'g': 222, 'b': 255, 'a': ...  CPFIEJMN_00957   \n",
       "12013  {'color': {'r': 121, 'g': 222, 'b': 255, 'a': ...  FLLLBHKB_00295   \n",
       "2669   {'color': {'r': 121, 'g': 222, 'b': 255, 'a': ...  AHGDBNMD_04014   \n",
       "311    {'color': {'r': 121, 'g': 222, 'b': 255, 'a': ...  FKIKDOPA_03417   \n",
       "4407   {'color': {'r': 121, 'g': 222, 'b': 255, 'a': ...  AHGDBNMD_01864   \n",
       "4453   {'color': {'r': 121, 'g': 222, 'b': 255, 'a': ...  AHGDBNMD_03994   \n",
       "6559   {'color': {'r': 121, 'g': 222, 'b': 255, 'a': ...  NFFLFIEF_01581   \n",
       "\n",
       "       Vibrio_coralliilyticus_OCN014 Vibrio_coralliilyticus_080116A  \\\n",
       "3177                             NaN                            NaN   \n",
       "3178                             NaN                            NaN   \n",
       "5133                             NaN                            NaN   \n",
       "8722                             NaN                            NaN   \n",
       "12013                            NaN                            NaN   \n",
       "2669                  AADFBFMN_05101                            NaN   \n",
       "311    AADFBFMN_01782|AADFBFMN_05095                 PFGAHHNN_01580   \n",
       "4407                             NaN                            NaN   \n",
       "4453                             NaN                            NaN   \n",
       "6559                             NaN                            NaN   \n",
       "\n",
       "      Vibrio_coralliilyticus_RE98  \\\n",
       "3177               HCPBJEEI_04148   \n",
       "3178               HCPBJEEI_04147   \n",
       "5133                          NaN   \n",
       "8722               HCPBJEEI_02816   \n",
       "12013              HCPBJEEI_04151   \n",
       "2669                          NaN   \n",
       "311                           NaN   \n",
       "4407                          NaN   \n",
       "4453                          NaN   \n",
       "6559                          NaN   \n",
       "\n",
       "                      Vibrio_coralliilyticus_NA0301  \\\n",
       "3177   PNJLNNEM_04030|PNJLNNEM_04705|PNJLNNEM_02405   \n",
       "3178   PNJLNNEM_04706|PNJLNNEM_02404|PNJLNNEM_04029   \n",
       "5133                                 PNJLNNEM_04369   \n",
       "8722                                            NaN   \n",
       "12013  PNJLNNEM_04702|PNJLNNEM_04033|PNJLNNEM_02408   \n",
       "2669                                 PNJLNNEM_03893   \n",
       "311                   PNJLNNEM_04380|PNJLNNEM_03897   \n",
       "4407                                 PNJLNNEM_03563   \n",
       "4453                  PNJLNNEM_04699|PNJLNNEM_01752   \n",
       "6559                                            NaN   \n",
       "\n",
       "           Vibrio_coralliilyticus_58 Vibrio_coralliilyticus_RE87  \\\n",
       "3177   FLLLBHKB_03396|FLLLBHKB_00292              ACOGLMFH_02275   \n",
       "3178   FLLLBHKB_00291|FLLLBHKB_03395              ACOGLMFH_02274   \n",
       "5133   FLLLBHKB_00536|FLLLBHKB_00515                         NaN   \n",
       "8722                             NaN                         NaN   \n",
       "12013  FLLLBHKB_00295|FLLLBHKB_03400              ACOGLMFH_02278   \n",
       "2669                             NaN                         NaN   \n",
       "311                              NaN                         NaN   \n",
       "4407                  FLLLBHKB_00776                         NaN   \n",
       "4453                             NaN                         NaN   \n",
       "6559                             NaN                         NaN   \n",
       "\n",
       "      Vibrio_coralliilyticus_P1  \n",
       "3177             AHGDBNMD_04325  \n",
       "3178             AHGDBNMD_04326  \n",
       "5133                        NaN  \n",
       "8722                        NaN  \n",
       "12013            AHGDBNMD_04321  \n",
       "2669             AHGDBNMD_04014  \n",
       "311                         NaN  \n",
       "4407             AHGDBNMD_01864  \n",
       "4453             AHGDBNMD_03994  \n",
       "6559                        NaN  \n",
       "\n",
       "[10 rows x 28 columns]"
      ]
     },
     "execution_count": 178,
     "metadata": {},
     "output_type": "execute_result"
    }
   ],
   "source": [
    "ndf.iloc[ndf[ndf[\"partition\"] == \"cloud\"][\"nb_genes\"].nlargest(10).index]"
   ]
  },
  {
   "cell_type": "code",
   "execution_count": 201,
   "metadata": {},
   "outputs": [
    {
     "data": {
      "text/plain": [
       "(12323, 14981)"
      ]
     },
     "execution_count": 201,
     "metadata": {},
     "output_type": "execute_result"
    }
   ],
   "source": [
    "len(g.nodes), len(g.edges())"
   ]
  },
  {
   "cell_type": "code",
   "execution_count": 185,
   "metadata": {
    "scrolled": true
   },
   "outputs": [
    {
     "data": {
      "text/html": [
       "<div>\n",
       "<style scoped>\n",
       "    .dataframe tbody tr th:only-of-type {\n",
       "        vertical-align: middle;\n",
       "    }\n",
       "\n",
       "    .dataframe tbody tr th {\n",
       "        vertical-align: top;\n",
       "    }\n",
       "\n",
       "    .dataframe thead th {\n",
       "        text-align: right;\n",
       "    }\n",
       "</style>\n",
       "<table border=\"1\" class=\"dataframe\">\n",
       "  <thead>\n",
       "    <tr style=\"text-align: right;\">\n",
       "      <th></th>\n",
       "      <th>nb_genes</th>\n",
       "      <th>name</th>\n",
       "      <th>product</th>\n",
       "      <th>type</th>\n",
       "      <th>partition</th>\n",
       "      <th>subpartition</th>\n",
       "      <th>partition_exact</th>\n",
       "      <th>partition_soft</th>\n",
       "      <th>length_avg</th>\n",
       "      <th>length_med</th>\n",
       "      <th>...</th>\n",
       "      <th>Vibrio_coralliilyticus_S2043</th>\n",
       "      <th>viz</th>\n",
       "      <th>label</th>\n",
       "      <th>Vibrio_coralliilyticus_OCN014</th>\n",
       "      <th>Vibrio_coralliilyticus_080116A</th>\n",
       "      <th>Vibrio_coralliilyticus_RE98</th>\n",
       "      <th>Vibrio_coralliilyticus_NA0301</th>\n",
       "      <th>Vibrio_coralliilyticus_58</th>\n",
       "      <th>Vibrio_coralliilyticus_RE87</th>\n",
       "      <th>Vibrio_coralliilyticus_P1</th>\n",
       "    </tr>\n",
       "  </thead>\n",
       "  <tbody>\n",
       "    <tr>\n",
       "      <td>1</td>\n",
       "      <td>8</td>\n",
       "      <td></td>\n",
       "      <td>hypothetical protein</td>\n",
       "      <td>CDS</td>\n",
       "      <td>shell</td>\n",
       "      <td>S1</td>\n",
       "      <td>exact_accessory</td>\n",
       "      <td>soft_accessory</td>\n",
       "      <td>1070.00</td>\n",
       "      <td>1070</td>\n",
       "      <td>...</td>\n",
       "      <td>NaN</td>\n",
       "      <td>{'color': {'r': 0, 'g': 216, 'b': 96, 'a': 0.0...</td>\n",
       "      <td>IJBHHNBA_04692</td>\n",
       "      <td>AADFBFMN_02778</td>\n",
       "      <td>PFGAHHNN_03858</td>\n",
       "      <td>HCPBJEEI_02894</td>\n",
       "      <td>PNJLNNEM_04355</td>\n",
       "      <td>NaN</td>\n",
       "      <td>NaN</td>\n",
       "      <td>NaN</td>\n",
       "    </tr>\n",
       "    <tr>\n",
       "      <td>268</td>\n",
       "      <td>7</td>\n",
       "      <td></td>\n",
       "      <td>hypothetical protein</td>\n",
       "      <td>CDS</td>\n",
       "      <td>shell</td>\n",
       "      <td>S1</td>\n",
       "      <td>exact_accessory</td>\n",
       "      <td>soft_accessory</td>\n",
       "      <td>4495.57</td>\n",
       "      <td>4493</td>\n",
       "      <td>...</td>\n",
       "      <td>NaN</td>\n",
       "      <td>{'color': {'r': 0, 'g': 216, 'b': 96, 'a': 0.0...</td>\n",
       "      <td>ACOGLMFH_01911</td>\n",
       "      <td>AADFBFMN_00153</td>\n",
       "      <td>PFGAHHNN_02254</td>\n",
       "      <td>HCPBJEEI_02717</td>\n",
       "      <td>NaN</td>\n",
       "      <td>NaN</td>\n",
       "      <td>ACOGLMFH_01911</td>\n",
       "      <td>NaN</td>\n",
       "    </tr>\n",
       "    <tr>\n",
       "      <td>271</td>\n",
       "      <td>9</td>\n",
       "      <td></td>\n",
       "      <td>hypothetical protein</td>\n",
       "      <td>CDS</td>\n",
       "      <td>shell</td>\n",
       "      <td>S1</td>\n",
       "      <td>exact_accessory</td>\n",
       "      <td>soft_accessory</td>\n",
       "      <td>14698.67</td>\n",
       "      <td>14957</td>\n",
       "      <td>...</td>\n",
       "      <td>GIHCKAFH_02851</td>\n",
       "      <td>{'color': {'r': 0, 'g': 216, 'b': 96, 'a': 0.0...</td>\n",
       "      <td>ACOGLMFH_01987</td>\n",
       "      <td>AADFBFMN_05144</td>\n",
       "      <td>NaN</td>\n",
       "      <td>HCPBJEEI_05147</td>\n",
       "      <td>PNJLNNEM_00428</td>\n",
       "      <td>NaN</td>\n",
       "      <td>ACOGLMFH_01987</td>\n",
       "      <td>AHGDBNMD_01834</td>\n",
       "    </tr>\n",
       "    <tr>\n",
       "      <td>304</td>\n",
       "      <td>10</td>\n",
       "      <td></td>\n",
       "      <td>hypothetical protein</td>\n",
       "      <td>CDS</td>\n",
       "      <td>shell</td>\n",
       "      <td>S1</td>\n",
       "      <td>exact_accessory</td>\n",
       "      <td>soft_accessory</td>\n",
       "      <td>2346.50</td>\n",
       "      <td>2333</td>\n",
       "      <td>...</td>\n",
       "      <td>GIHCKAFH_01916</td>\n",
       "      <td>{'color': {'r': 0, 'g': 216, 'b': 96, 'a': 0.0...</td>\n",
       "      <td>FKIKDOPA_03399</td>\n",
       "      <td>AADFBFMN_05122</td>\n",
       "      <td>NaN</td>\n",
       "      <td>HCPBJEEI_05135</td>\n",
       "      <td>NaN</td>\n",
       "      <td>NaN</td>\n",
       "      <td>ACOGLMFH_03340</td>\n",
       "      <td>AHGDBNMD_01347</td>\n",
       "    </tr>\n",
       "    <tr>\n",
       "      <td>307</td>\n",
       "      <td>8</td>\n",
       "      <td></td>\n",
       "      <td>hypothetical protein</td>\n",
       "      <td>CDS</td>\n",
       "      <td>shell</td>\n",
       "      <td>S1</td>\n",
       "      <td>exact_accessory</td>\n",
       "      <td>soft_accessory</td>\n",
       "      <td>344.00</td>\n",
       "      <td>350</td>\n",
       "      <td>...</td>\n",
       "      <td>GIHCKAFH_01929</td>\n",
       "      <td>{'color': {'r': 0, 'g': 216, 'b': 96, 'a': 0.0...</td>\n",
       "      <td>FKIKDOPA_03410</td>\n",
       "      <td>AADFBFMN_05105</td>\n",
       "      <td>PFGAHHNN_01572</td>\n",
       "      <td>NaN</td>\n",
       "      <td>PNJLNNEM_03905</td>\n",
       "      <td>NaN</td>\n",
       "      <td>NaN</td>\n",
       "      <td>NaN</td>\n",
       "    </tr>\n",
       "    <tr>\n",
       "      <td>...</td>\n",
       "      <td>...</td>\n",
       "      <td>...</td>\n",
       "      <td>...</td>\n",
       "      <td>...</td>\n",
       "      <td>...</td>\n",
       "      <td>...</td>\n",
       "      <td>...</td>\n",
       "      <td>...</td>\n",
       "      <td>...</td>\n",
       "      <td>...</td>\n",
       "      <td>...</td>\n",
       "      <td>...</td>\n",
       "      <td>...</td>\n",
       "      <td>...</td>\n",
       "      <td>...</td>\n",
       "      <td>...</td>\n",
       "      <td>...</td>\n",
       "      <td>...</td>\n",
       "      <td>...</td>\n",
       "      <td>...</td>\n",
       "      <td>...</td>\n",
       "    </tr>\n",
       "    <tr>\n",
       "      <td>12294</td>\n",
       "      <td>7</td>\n",
       "      <td></td>\n",
       "      <td>hypothetical protein</td>\n",
       "      <td>CDS</td>\n",
       "      <td>shell</td>\n",
       "      <td>S1</td>\n",
       "      <td>exact_accessory</td>\n",
       "      <td>soft_accessory</td>\n",
       "      <td>800.00</td>\n",
       "      <td>800</td>\n",
       "      <td>...</td>\n",
       "      <td>NaN</td>\n",
       "      <td>{'color': {'r': 0, 'g': 216, 'b': 96, 'a': 0.0...</td>\n",
       "      <td>AADFBFMN_04971</td>\n",
       "      <td>AADFBFMN_04971</td>\n",
       "      <td>PFGAHHNN_01053</td>\n",
       "      <td>HCPBJEEI_04841</td>\n",
       "      <td>NaN</td>\n",
       "      <td>NaN</td>\n",
       "      <td>ACOGLMFH_05091</td>\n",
       "      <td>NaN</td>\n",
       "    </tr>\n",
       "    <tr>\n",
       "      <td>12304</td>\n",
       "      <td>7</td>\n",
       "      <td></td>\n",
       "      <td>hypothetical protein</td>\n",
       "      <td>CDS</td>\n",
       "      <td>shell</td>\n",
       "      <td>S1</td>\n",
       "      <td>exact_accessory</td>\n",
       "      <td>soft_accessory</td>\n",
       "      <td>308.00</td>\n",
       "      <td>314</td>\n",
       "      <td>...</td>\n",
       "      <td>NaN</td>\n",
       "      <td>{'color': {'r': 0, 'g': 216, 'b': 96, 'a': 0.0...</td>\n",
       "      <td>AADFBFMN_05048</td>\n",
       "      <td>AADFBFMN_05048</td>\n",
       "      <td>NaN</td>\n",
       "      <td>HCPBJEEI_05075</td>\n",
       "      <td>PNJLNNEM_03863</td>\n",
       "      <td>NaN</td>\n",
       "      <td>ACOGLMFH_02491</td>\n",
       "      <td>NaN</td>\n",
       "    </tr>\n",
       "    <tr>\n",
       "      <td>12315</td>\n",
       "      <td>7</td>\n",
       "      <td>nrdF2</td>\n",
       "      <td>Ribonucleoside-diphosphate reductase subunit b...</td>\n",
       "      <td>CDS</td>\n",
       "      <td>shell</td>\n",
       "      <td>S1</td>\n",
       "      <td>exact_accessory</td>\n",
       "      <td>soft_accessory</td>\n",
       "      <td>967.57</td>\n",
       "      <td>974</td>\n",
       "      <td>...</td>\n",
       "      <td>GIHCKAFH_03841</td>\n",
       "      <td>{'color': {'r': 0, 'g': 216, 'b': 96, 'a': 0.0...</td>\n",
       "      <td>NFFLFIEF_02360</td>\n",
       "      <td>AADFBFMN_04350</td>\n",
       "      <td>PFGAHHNN_00443</td>\n",
       "      <td>NaN</td>\n",
       "      <td>NaN</td>\n",
       "      <td>NaN</td>\n",
       "      <td>ACOGLMFH_00372</td>\n",
       "      <td>NaN</td>\n",
       "    </tr>\n",
       "    <tr>\n",
       "      <td>12316</td>\n",
       "      <td>7</td>\n",
       "      <td>sufB</td>\n",
       "      <td>FeS cluster assembly protein SufB</td>\n",
       "      <td>CDS</td>\n",
       "      <td>shell</td>\n",
       "      <td>S1</td>\n",
       "      <td>exact_accessory</td>\n",
       "      <td>soft_accessory</td>\n",
       "      <td>1463.00</td>\n",
       "      <td>1463</td>\n",
       "      <td>...</td>\n",
       "      <td>GIHCKAFH_03846</td>\n",
       "      <td>{'color': {'r': 0, 'g': 216, 'b': 96, 'a': 0.0...</td>\n",
       "      <td>NFFLFIEF_02365</td>\n",
       "      <td>AADFBFMN_04345</td>\n",
       "      <td>PFGAHHNN_00438</td>\n",
       "      <td>NaN</td>\n",
       "      <td>NaN</td>\n",
       "      <td>NaN</td>\n",
       "      <td>ACOGLMFH_00367</td>\n",
       "      <td>NaN</td>\n",
       "    </tr>\n",
       "    <tr>\n",
       "      <td>12317</td>\n",
       "      <td>7</td>\n",
       "      <td>sufS_1</td>\n",
       "      <td>Cysteine desulfurase</td>\n",
       "      <td>CDS</td>\n",
       "      <td>shell</td>\n",
       "      <td>S1</td>\n",
       "      <td>exact_accessory</td>\n",
       "      <td>soft_accessory</td>\n",
       "      <td>1229.00</td>\n",
       "      <td>1229</td>\n",
       "      <td>...</td>\n",
       "      <td>GIHCKAFH_03849</td>\n",
       "      <td>{'color': {'r': 0, 'g': 216, 'b': 96, 'a': 0.0...</td>\n",
       "      <td>NFFLFIEF_02368</td>\n",
       "      <td>AADFBFMN_04342</td>\n",
       "      <td>PFGAHHNN_00435</td>\n",
       "      <td>NaN</td>\n",
       "      <td>NaN</td>\n",
       "      <td>NaN</td>\n",
       "      <td>ACOGLMFH_00364</td>\n",
       "      <td>NaN</td>\n",
       "    </tr>\n",
       "  </tbody>\n",
       "</table>\n",
       "<p>365 rows × 28 columns</p>\n",
       "</div>"
      ],
      "text/plain": [
       "       nb_genes    name                                            product  \\\n",
       "1             8                                       hypothetical protein   \n",
       "268           7                                       hypothetical protein   \n",
       "271           9                                       hypothetical protein   \n",
       "304          10                                       hypothetical protein   \n",
       "307           8                                       hypothetical protein   \n",
       "...         ...     ...                                                ...   \n",
       "12294         7                                       hypothetical protein   \n",
       "12304         7                                       hypothetical protein   \n",
       "12315         7   nrdF2  Ribonucleoside-diphosphate reductase subunit b...   \n",
       "12316         7    sufB                  FeS cluster assembly protein SufB   \n",
       "12317         7  sufS_1                               Cysteine desulfurase   \n",
       "\n",
       "      type partition subpartition  partition_exact  partition_soft  \\\n",
       "1      CDS     shell           S1  exact_accessory  soft_accessory   \n",
       "268    CDS     shell           S1  exact_accessory  soft_accessory   \n",
       "271    CDS     shell           S1  exact_accessory  soft_accessory   \n",
       "304    CDS     shell           S1  exact_accessory  soft_accessory   \n",
       "307    CDS     shell           S1  exact_accessory  soft_accessory   \n",
       "...    ...       ...          ...              ...             ...   \n",
       "12294  CDS     shell           S1  exact_accessory  soft_accessory   \n",
       "12304  CDS     shell           S1  exact_accessory  soft_accessory   \n",
       "12315  CDS     shell           S1  exact_accessory  soft_accessory   \n",
       "12316  CDS     shell           S1  exact_accessory  soft_accessory   \n",
       "12317  CDS     shell           S1  exact_accessory  soft_accessory   \n",
       "\n",
       "       length_avg  length_med  ...  Vibrio_coralliilyticus_S2043  \\\n",
       "1         1070.00        1070  ...                           NaN   \n",
       "268       4495.57        4493  ...                           NaN   \n",
       "271      14698.67       14957  ...                GIHCKAFH_02851   \n",
       "304       2346.50        2333  ...                GIHCKAFH_01916   \n",
       "307        344.00         350  ...                GIHCKAFH_01929   \n",
       "...           ...         ...  ...                           ...   \n",
       "12294      800.00         800  ...                           NaN   \n",
       "12304      308.00         314  ...                           NaN   \n",
       "12315      967.57         974  ...                GIHCKAFH_03841   \n",
       "12316     1463.00        1463  ...                GIHCKAFH_03846   \n",
       "12317     1229.00        1229  ...                GIHCKAFH_03849   \n",
       "\n",
       "                                                     viz           label  \\\n",
       "1      {'color': {'r': 0, 'g': 216, 'b': 96, 'a': 0.0...  IJBHHNBA_04692   \n",
       "268    {'color': {'r': 0, 'g': 216, 'b': 96, 'a': 0.0...  ACOGLMFH_01911   \n",
       "271    {'color': {'r': 0, 'g': 216, 'b': 96, 'a': 0.0...  ACOGLMFH_01987   \n",
       "304    {'color': {'r': 0, 'g': 216, 'b': 96, 'a': 0.0...  FKIKDOPA_03399   \n",
       "307    {'color': {'r': 0, 'g': 216, 'b': 96, 'a': 0.0...  FKIKDOPA_03410   \n",
       "...                                                  ...             ...   \n",
       "12294  {'color': {'r': 0, 'g': 216, 'b': 96, 'a': 0.0...  AADFBFMN_04971   \n",
       "12304  {'color': {'r': 0, 'g': 216, 'b': 96, 'a': 0.0...  AADFBFMN_05048   \n",
       "12315  {'color': {'r': 0, 'g': 216, 'b': 96, 'a': 0.0...  NFFLFIEF_02360   \n",
       "12316  {'color': {'r': 0, 'g': 216, 'b': 96, 'a': 0.0...  NFFLFIEF_02365   \n",
       "12317  {'color': {'r': 0, 'g': 216, 'b': 96, 'a': 0.0...  NFFLFIEF_02368   \n",
       "\n",
       "      Vibrio_coralliilyticus_OCN014 Vibrio_coralliilyticus_080116A  \\\n",
       "1                    AADFBFMN_02778                 PFGAHHNN_03858   \n",
       "268                  AADFBFMN_00153                 PFGAHHNN_02254   \n",
       "271                  AADFBFMN_05144                            NaN   \n",
       "304                  AADFBFMN_05122                            NaN   \n",
       "307                  AADFBFMN_05105                 PFGAHHNN_01572   \n",
       "...                             ...                            ...   \n",
       "12294                AADFBFMN_04971                 PFGAHHNN_01053   \n",
       "12304                AADFBFMN_05048                            NaN   \n",
       "12315                AADFBFMN_04350                 PFGAHHNN_00443   \n",
       "12316                AADFBFMN_04345                 PFGAHHNN_00438   \n",
       "12317                AADFBFMN_04342                 PFGAHHNN_00435   \n",
       "\n",
       "      Vibrio_coralliilyticus_RE98 Vibrio_coralliilyticus_NA0301  \\\n",
       "1                  HCPBJEEI_02894                PNJLNNEM_04355   \n",
       "268                HCPBJEEI_02717                           NaN   \n",
       "271                HCPBJEEI_05147                PNJLNNEM_00428   \n",
       "304                HCPBJEEI_05135                           NaN   \n",
       "307                           NaN                PNJLNNEM_03905   \n",
       "...                           ...                           ...   \n",
       "12294              HCPBJEEI_04841                           NaN   \n",
       "12304              HCPBJEEI_05075                PNJLNNEM_03863   \n",
       "12315                         NaN                           NaN   \n",
       "12316                         NaN                           NaN   \n",
       "12317                         NaN                           NaN   \n",
       "\n",
       "      Vibrio_coralliilyticus_58 Vibrio_coralliilyticus_RE87  \\\n",
       "1                           NaN                         NaN   \n",
       "268                         NaN              ACOGLMFH_01911   \n",
       "271                         NaN              ACOGLMFH_01987   \n",
       "304                         NaN              ACOGLMFH_03340   \n",
       "307                         NaN                         NaN   \n",
       "...                         ...                         ...   \n",
       "12294                       NaN              ACOGLMFH_05091   \n",
       "12304                       NaN              ACOGLMFH_02491   \n",
       "12315                       NaN              ACOGLMFH_00372   \n",
       "12316                       NaN              ACOGLMFH_00367   \n",
       "12317                       NaN              ACOGLMFH_00364   \n",
       "\n",
       "      Vibrio_coralliilyticus_P1  \n",
       "1                           NaN  \n",
       "268                         NaN  \n",
       "271              AHGDBNMD_01834  \n",
       "304              AHGDBNMD_01347  \n",
       "307                         NaN  \n",
       "...                         ...  \n",
       "12294                       NaN  \n",
       "12304                       NaN  \n",
       "12315                       NaN  \n",
       "12316                       NaN  \n",
       "12317                       NaN  \n",
       "\n",
       "[365 rows x 28 columns]"
      ]
     },
     "execution_count": 185,
     "metadata": {},
     "output_type": "execute_result"
    }
   ],
   "source": [
    "ndf[ndf[\"partition\"] == \"shell\"]"
   ]
  },
  {
   "cell_type": "code",
   "execution_count": 210,
   "metadata": {
    "scrolled": true
   },
   "outputs": [
    {
     "data": {
      "text/html": [
       "<div>\n",
       "<style scoped>\n",
       "    .dataframe tbody tr th:only-of-type {\n",
       "        vertical-align: middle;\n",
       "    }\n",
       "\n",
       "    .dataframe tbody tr th {\n",
       "        vertical-align: top;\n",
       "    }\n",
       "\n",
       "    .dataframe thead th {\n",
       "        text-align: right;\n",
       "    }\n",
       "</style>\n",
       "<table border=\"1\" class=\"dataframe\">\n",
       "  <thead>\n",
       "    <tr style=\"text-align: right;\">\n",
       "      <th></th>\n",
       "      <th>nb_genes</th>\n",
       "      <th>name</th>\n",
       "      <th>product</th>\n",
       "      <th>type</th>\n",
       "      <th>partition</th>\n",
       "      <th>subpartition</th>\n",
       "      <th>partition_exact</th>\n",
       "      <th>partition_soft</th>\n",
       "      <th>length_avg</th>\n",
       "      <th>length_med</th>\n",
       "      <th>...</th>\n",
       "      <th>Vibrio_coralliilyticus_S2043</th>\n",
       "      <th>viz</th>\n",
       "      <th>label</th>\n",
       "      <th>Vibrio_coralliilyticus_OCN014</th>\n",
       "      <th>Vibrio_coralliilyticus_080116A</th>\n",
       "      <th>Vibrio_coralliilyticus_RE98</th>\n",
       "      <th>Vibrio_coralliilyticus_NA0301</th>\n",
       "      <th>Vibrio_coralliilyticus_58</th>\n",
       "      <th>Vibrio_coralliilyticus_RE87</th>\n",
       "      <th>Vibrio_coralliilyticus_P1</th>\n",
       "    </tr>\n",
       "  </thead>\n",
       "  <tbody>\n",
       "    <tr>\n",
       "      <td>627</td>\n",
       "      <td>14</td>\n",
       "      <td></td>\n",
       "      <td>Virulence protein</td>\n",
       "      <td>CDS</td>\n",
       "      <td>persistent</td>\n",
       "      <td>P</td>\n",
       "      <td>exact_accessory</td>\n",
       "      <td>soft_accessory</td>\n",
       "      <td>368.0</td>\n",
       "      <td>368</td>\n",
       "      <td>...</td>\n",
       "      <td>GIHCKAFH_03480</td>\n",
       "      <td>{'color': {'r': 247, 'g': 165, 'b': 7, 'a': 0....</td>\n",
       "      <td>CPFIEJMN_02142</td>\n",
       "      <td>AADFBFMN_04747</td>\n",
       "      <td>PFGAHHNN_00829</td>\n",
       "      <td>HCPBJEEI_03289</td>\n",
       "      <td>PNJLNNEM_01949</td>\n",
       "      <td>FLLLBHKB_04356</td>\n",
       "      <td>ACOGLMFH_00761</td>\n",
       "      <td>NaN</td>\n",
       "    </tr>\n",
       "    <tr>\n",
       "      <td>2241</td>\n",
       "      <td>1</td>\n",
       "      <td>phoQ</td>\n",
       "      <td>Virulence sensor histidine kinase PhoQ</td>\n",
       "      <td>CDS</td>\n",
       "      <td>cloud</td>\n",
       "      <td>C</td>\n",
       "      <td>exact_accessory</td>\n",
       "      <td>soft_accessory</td>\n",
       "      <td>722.0</td>\n",
       "      <td>722</td>\n",
       "      <td>...</td>\n",
       "      <td>NaN</td>\n",
       "      <td>{'color': {'r': 121, 'g': 222, 'b': 255, 'a': ...</td>\n",
       "      <td>KFHGEANF_02299</td>\n",
       "      <td>NaN</td>\n",
       "      <td>NaN</td>\n",
       "      <td>NaN</td>\n",
       "      <td>NaN</td>\n",
       "      <td>NaN</td>\n",
       "      <td>NaN</td>\n",
       "      <td>NaN</td>\n",
       "    </tr>\n",
       "    <tr>\n",
       "      <td>7498</td>\n",
       "      <td>15</td>\n",
       "      <td>cvfB</td>\n",
       "      <td>Conserved virulence factor B</td>\n",
       "      <td>CDS</td>\n",
       "      <td>persistent</td>\n",
       "      <td>P</td>\n",
       "      <td>exact_core</td>\n",
       "      <td>soft_core</td>\n",
       "      <td>836.0</td>\n",
       "      <td>836</td>\n",
       "      <td>...</td>\n",
       "      <td>GIHCKAFH_03310</td>\n",
       "      <td>{'color': {'r': 247, 'g': 165, 'b': 7, 'a': 0....</td>\n",
       "      <td>CPFIEJMN_00476</td>\n",
       "      <td>AADFBFMN_01561</td>\n",
       "      <td>PFGAHHNN_02325</td>\n",
       "      <td>HCPBJEEI_01374</td>\n",
       "      <td>PNJLNNEM_04665</td>\n",
       "      <td>FLLLBHKB_00339</td>\n",
       "      <td>ACOGLMFH_02638</td>\n",
       "      <td>AHGDBNMD_02140</td>\n",
       "    </tr>\n",
       "    <tr>\n",
       "      <td>8214</td>\n",
       "      <td>1</td>\n",
       "      <td>virS</td>\n",
       "      <td>HTH-type transcriptional regulator VirS</td>\n",
       "      <td>CDS</td>\n",
       "      <td>cloud</td>\n",
       "      <td>C</td>\n",
       "      <td>exact_accessory</td>\n",
       "      <td>soft_accessory</td>\n",
       "      <td>374.0</td>\n",
       "      <td>374</td>\n",
       "      <td>...</td>\n",
       "      <td>NaN</td>\n",
       "      <td>{'color': {'r': 121, 'g': 222, 'b': 255, 'a': ...</td>\n",
       "      <td>FKIKDOPA_00615</td>\n",
       "      <td>NaN</td>\n",
       "      <td>NaN</td>\n",
       "      <td>NaN</td>\n",
       "      <td>NaN</td>\n",
       "      <td>NaN</td>\n",
       "      <td>NaN</td>\n",
       "      <td>NaN</td>\n",
       "    </tr>\n",
       "    <tr>\n",
       "      <td>10379</td>\n",
       "      <td>15</td>\n",
       "      <td>virB</td>\n",
       "      <td>Virulence regulon transcriptional activator VirB</td>\n",
       "      <td>CDS</td>\n",
       "      <td>persistent</td>\n",
       "      <td>P</td>\n",
       "      <td>exact_core</td>\n",
       "      <td>soft_core</td>\n",
       "      <td>1082.0</td>\n",
       "      <td>1082</td>\n",
       "      <td>...</td>\n",
       "      <td>GIHCKAFH_04465</td>\n",
       "      <td>{'color': {'r': 247, 'g': 165, 'b': 7, 'a': 0....</td>\n",
       "      <td>AHGDBNMD_04192</td>\n",
       "      <td>AADFBFMN_05336</td>\n",
       "      <td>PFGAHHNN_02108</td>\n",
       "      <td>HCPBJEEI_05004</td>\n",
       "      <td>PNJLNNEM_04107</td>\n",
       "      <td>FLLLBHKB_05076</td>\n",
       "      <td>ACOGLMFH_03054</td>\n",
       "      <td>AHGDBNMD_04192</td>\n",
       "    </tr>\n",
       "    <tr>\n",
       "      <td>10565</td>\n",
       "      <td>2</td>\n",
       "      <td>virB_1</td>\n",
       "      <td>Virulence regulon transcriptional activator VirB</td>\n",
       "      <td>CDS</td>\n",
       "      <td>cloud</td>\n",
       "      <td>C</td>\n",
       "      <td>exact_accessory</td>\n",
       "      <td>soft_accessory</td>\n",
       "      <td>1127.0</td>\n",
       "      <td>1127</td>\n",
       "      <td>...</td>\n",
       "      <td>NaN</td>\n",
       "      <td>{'color': {'r': 121, 'g': 222, 'b': 255, 'a': ...</td>\n",
       "      <td>NMLJHHJO_03187</td>\n",
       "      <td>NaN</td>\n",
       "      <td>NaN</td>\n",
       "      <td>HCPBJEEI_05495</td>\n",
       "      <td>NaN</td>\n",
       "      <td>NaN</td>\n",
       "      <td>NaN</td>\n",
       "      <td>NaN</td>\n",
       "    </tr>\n",
       "    <tr>\n",
       "      <td>10791</td>\n",
       "      <td>15</td>\n",
       "      <td>bvgA</td>\n",
       "      <td>Virulence factors putative positive transcript...</td>\n",
       "      <td>CDS</td>\n",
       "      <td>persistent</td>\n",
       "      <td>P</td>\n",
       "      <td>exact_core</td>\n",
       "      <td>soft_core</td>\n",
       "      <td>614.0</td>\n",
       "      <td>614</td>\n",
       "      <td>...</td>\n",
       "      <td>GIHCKAFH_00836</td>\n",
       "      <td>{'color': {'r': 247, 'g': 165, 'b': 7, 'a': 0....</td>\n",
       "      <td>AHGDBNMD_04225</td>\n",
       "      <td>AADFBFMN_04143</td>\n",
       "      <td>PFGAHHNN_00242</td>\n",
       "      <td>HCPBJEEI_03921</td>\n",
       "      <td>PNJLNNEM_01366</td>\n",
       "      <td>FLLLBHKB_04962</td>\n",
       "      <td>ACOGLMFH_00161</td>\n",
       "      <td>AHGDBNMD_04225</td>\n",
       "    </tr>\n",
       "  </tbody>\n",
       "</table>\n",
       "<p>7 rows × 28 columns</p>\n",
       "</div>"
      ],
      "text/plain": [
       "       nb_genes    name                                            product  \\\n",
       "627          14                                          Virulence protein   \n",
       "2241          1    phoQ             Virulence sensor histidine kinase PhoQ   \n",
       "7498         15    cvfB                       Conserved virulence factor B   \n",
       "8214          1    virS            HTH-type transcriptional regulator VirS   \n",
       "10379        15    virB   Virulence regulon transcriptional activator VirB   \n",
       "10565         2  virB_1   Virulence regulon transcriptional activator VirB   \n",
       "10791        15    bvgA  Virulence factors putative positive transcript...   \n",
       "\n",
       "      type   partition subpartition  partition_exact  partition_soft  \\\n",
       "627    CDS  persistent            P  exact_accessory  soft_accessory   \n",
       "2241   CDS       cloud            C  exact_accessory  soft_accessory   \n",
       "7498   CDS  persistent            P       exact_core       soft_core   \n",
       "8214   CDS       cloud            C  exact_accessory  soft_accessory   \n",
       "10379  CDS  persistent            P       exact_core       soft_core   \n",
       "10565  CDS       cloud            C  exact_accessory  soft_accessory   \n",
       "10791  CDS  persistent            P       exact_core       soft_core   \n",
       "\n",
       "       length_avg  length_med  ...  Vibrio_coralliilyticus_S2043  \\\n",
       "627         368.0         368  ...                GIHCKAFH_03480   \n",
       "2241        722.0         722  ...                           NaN   \n",
       "7498        836.0         836  ...                GIHCKAFH_03310   \n",
       "8214        374.0         374  ...                           NaN   \n",
       "10379      1082.0        1082  ...                GIHCKAFH_04465   \n",
       "10565      1127.0        1127  ...                           NaN   \n",
       "10791       614.0         614  ...                GIHCKAFH_00836   \n",
       "\n",
       "                                                     viz           label  \\\n",
       "627    {'color': {'r': 247, 'g': 165, 'b': 7, 'a': 0....  CPFIEJMN_02142   \n",
       "2241   {'color': {'r': 121, 'g': 222, 'b': 255, 'a': ...  KFHGEANF_02299   \n",
       "7498   {'color': {'r': 247, 'g': 165, 'b': 7, 'a': 0....  CPFIEJMN_00476   \n",
       "8214   {'color': {'r': 121, 'g': 222, 'b': 255, 'a': ...  FKIKDOPA_00615   \n",
       "10379  {'color': {'r': 247, 'g': 165, 'b': 7, 'a': 0....  AHGDBNMD_04192   \n",
       "10565  {'color': {'r': 121, 'g': 222, 'b': 255, 'a': ...  NMLJHHJO_03187   \n",
       "10791  {'color': {'r': 247, 'g': 165, 'b': 7, 'a': 0....  AHGDBNMD_04225   \n",
       "\n",
       "      Vibrio_coralliilyticus_OCN014 Vibrio_coralliilyticus_080116A  \\\n",
       "627                  AADFBFMN_04747                 PFGAHHNN_00829   \n",
       "2241                            NaN                            NaN   \n",
       "7498                 AADFBFMN_01561                 PFGAHHNN_02325   \n",
       "8214                            NaN                            NaN   \n",
       "10379                AADFBFMN_05336                 PFGAHHNN_02108   \n",
       "10565                           NaN                            NaN   \n",
       "10791                AADFBFMN_04143                 PFGAHHNN_00242   \n",
       "\n",
       "      Vibrio_coralliilyticus_RE98 Vibrio_coralliilyticus_NA0301  \\\n",
       "627                HCPBJEEI_03289                PNJLNNEM_01949   \n",
       "2241                          NaN                           NaN   \n",
       "7498               HCPBJEEI_01374                PNJLNNEM_04665   \n",
       "8214                          NaN                           NaN   \n",
       "10379              HCPBJEEI_05004                PNJLNNEM_04107   \n",
       "10565              HCPBJEEI_05495                           NaN   \n",
       "10791              HCPBJEEI_03921                PNJLNNEM_01366   \n",
       "\n",
       "      Vibrio_coralliilyticus_58 Vibrio_coralliilyticus_RE87  \\\n",
       "627              FLLLBHKB_04356              ACOGLMFH_00761   \n",
       "2241                        NaN                         NaN   \n",
       "7498             FLLLBHKB_00339              ACOGLMFH_02638   \n",
       "8214                        NaN                         NaN   \n",
       "10379            FLLLBHKB_05076              ACOGLMFH_03054   \n",
       "10565                       NaN                         NaN   \n",
       "10791            FLLLBHKB_04962              ACOGLMFH_00161   \n",
       "\n",
       "      Vibrio_coralliilyticus_P1  \n",
       "627                         NaN  \n",
       "2241                        NaN  \n",
       "7498             AHGDBNMD_02140  \n",
       "8214                        NaN  \n",
       "10379            AHGDBNMD_04192  \n",
       "10565                       NaN  \n",
       "10791            AHGDBNMD_04225  \n",
       "\n",
       "[7 rows x 28 columns]"
      ]
     },
     "execution_count": 210,
     "metadata": {},
     "output_type": "execute_result"
    }
   ],
   "source": [
    "ndf[ndf[\"product\"].apply(lambda s: \"vir\" in s.lower())]"
   ]
  },
  {
   "cell_type": "code",
   "execution_count": 211,
   "metadata": {},
   "outputs": [],
   "source": [
    "import sys\n",
    "import re"
   ]
  },
  {
   "cell_type": "code",
   "execution_count": 220,
   "metadata": {},
   "outputs": [],
   "source": [
    "def grep(term, file):\n",
    "    with open(file) as f:\n",
    "        r = f.readlines()\n",
    "        if term in r:\n",
    "            print(term)"
   ]
  },
  {
   "cell_type": "code",
   "execution_count": 221,
   "metadata": {},
   "outputs": [],
   "source": [
    "df[\"prokka_ffn\"] = df[\"prokka_gff\"].str.replace(\".gff\", \".ffn\")"
   ]
  },
  {
   "cell_type": "code",
   "execution_count": 222,
   "metadata": {},
   "outputs": [],
   "source": [
    "for i in df[\"prokka_ffn\"]:\n",
    "    grep(\"AHGDBNMD_04225\", i)"
   ]
  },
  {
   "cell_type": "code",
   "execution_count": 165,
   "metadata": {
    "scrolled": true
   },
   "outputs": [
    {
     "data": {
      "text/plain": [
       "cloud         5314\n",
       "persistent    1789\n",
       "shell          231\n",
       "Name: partition, dtype: int64"
      ]
     },
     "execution_count": 165,
     "metadata": {},
     "output_type": "execute_result"
    }
   ],
   "source": [
    "ndf[ndf[\"product\"].apply(\n",
    "    lambda s: s in (\"hypothetical protein\", \"putative protein\"))\n",
    "   ][\"partition\"].value_counts()"
   ]
  },
  {
   "cell_type": "code",
   "execution_count": 53,
   "metadata": {
    "scrolled": true
   },
   "outputs": [],
   "source": [
    "import numpy as np\n",
    "import seaborn as sns\n",
    "from matplotlib import pyplot as plt"
   ]
  },
  {
   "cell_type": "code",
   "execution_count": 132,
   "metadata": {
    "scrolled": true
   },
   "outputs": [],
   "source": [
    "G = g"
   ]
  },
  {
   "cell_type": "code",
   "execution_count": 134,
   "metadata": {
    "scrolled": true
   },
   "outputs": [],
   "source": [
    "import collections"
   ]
  },
  {
   "cell_type": "code",
   "execution_count": 352,
   "metadata": {
    "scrolled": true
   },
   "outputs": [],
   "source": [
    "def plot(data, dataset, filename):\n",
    "    # Adapted from \n",
    "    # https://gist.github.com/yamaguchiyuto/504eb5482fc73f046f6b\n",
    "    \n",
    "    fig, (ax1, ax2, ax3) = plt.subplots(nrows=1, ncols=3)\n",
    "    \"\"\" Plot Distribution \"\"\"\n",
    "    ax1.plot(range(len(data)),data,'go')\n",
    "    plt.yscale('log')\n",
    "    plt.xscale('log')\n",
    "    plt.ylabel('Freq')\n",
    "    plt.xlabel(f'Degree - {dataset} dataset')\n",
    "    plt.savefig(filename + '_' + dataset + '_distribution.png', dpi=500)\n",
    "    plt.clf()\n",
    "\n",
    "    \"\"\" Plot CDF \"\"\"\n",
    "    s = float(data.sum())\n",
    "    cdf = data.cumsum(0)/s\n",
    "    ax2.plot(range(len(cdf)),cdf,'go')\n",
    "    plt.xscale('log')\n",
    "    plt.ylim([0,1])\n",
    "    plt.ylabel('CDF')\n",
    "    plt.xlabel(f'Degree - {dataset} dataset')\n",
    "    plt.savefig(filename + '_' + dataset + '_cdf.png', dpi=500)\n",
    "    plt.clf()\n",
    "\n",
    "    \"\"\" Plot CCDF \"\"\"\n",
    "    ccdf = 1-cdf\n",
    "    plt.plot(range(len(ccdf)),ccdf,'go')\n",
    "    plt.xscale('log')\n",
    "    plt.yscale('log')\n",
    "    plt.ylim([0,1])\n",
    "    plt.ylabel('CCDF')\n",
    "    plt.xlabel(f'Degree - {dataset} dataset')\n",
    "    plt.savefig(filename + '_' + dataset + '_ccdf.png', dpi=500)\n",
    "    plt.clf()"
   ]
  },
  {
   "cell_type": "code",
   "execution_count": 353,
   "metadata": {
    "scrolled": true
   },
   "outputs": [
    {
     "name": "stderr",
     "output_type": "stream",
     "text": [
      "/home/vini/anaconda3/lib/python3.7/site-packages/ipykernel_launcher.py:31: UserWarning: Attempted to set non-positive bottom ylim on a log-scaled axis.\n",
      "Invalid limit will be ignored.\n"
     ]
    },
    {
     "data": {
      "text/plain": [
       "<Figure size 432x288 with 0 Axes>"
      ]
     },
     "metadata": {},
     "output_type": "display_data"
    }
   ],
   "source": [
    "M = nx.to_scipy_sparse_matrix(g)\n",
    "indegrees = np.array([int(i) for i in M.sum(0).A[0]])\n",
    "outdegrees = np.array([int(i) for i in M.sum(1).T.A[0]])\n",
    "indegree_distribution = np.bincount(indegrees)\n",
    "outdegree_distribution = np.bincount(outdegrees)\n",
    "plot(indegree_distribution, \"Vibrio c\", \"distributions\")"
   ]
  },
  {
   "cell_type": "code",
   "execution_count": 65,
   "metadata": {
    "scrolled": true
   },
   "outputs": [
    {
     "data": {
      "text/plain": [
       "[<matplotlib.lines.Line2D at 0x7fcb1ce4e250>]"
      ]
     },
     "execution_count": 65,
     "metadata": {},
     "output_type": "execute_result"
    },
    {
     "data": {
      "image/png": "[encoded data removed]",
      "text/plain": [
       "<Figure size 432x288 with 1 Axes>"
      ]
     },
     "metadata": {
      "needs_background": "light"
     },
     "output_type": "display_data"
    }
   ],
   "source": [
    "plt.plot(range(len(indegree_distribution)),indegree_distribution,'go')"
   ]
  },
  {
   "cell_type": "code",
   "execution_count": 60,
   "metadata": {
    "scrolled": true
   },
   "outputs": [
    {
     "data": {
      "text/plain": [
       "array([28, 28, 28, ...,  2,  2,  1])"
      ]
     },
     "execution_count": 60,
     "metadata": {},
     "output_type": "execute_result"
    }
   ],
   "source": [
    "np.array([int(i) for i in indegrees])"
   ]
  },
  {
   "cell_type": "code",
   "execution_count": null,
   "metadata": {},
   "outputs": [],
   "source": []
  },
  {
   "cell_type": "markdown",
   "metadata": {},
   "source": [
    "Métricas\n",
    "\n",
    "* Grau médio\n",
    "* Grau médio ponderado\n",
    "* Diâmetro da GCC\n",
    "* APD"
   ]
  },
  {
   "cell_type": "code",
   "execution_count": 268,
   "metadata": {},
   "outputs": [],
   "source": [
    "# Criando um vetor contendo o tamanho das componentes conexas\n",
    "cc = pd.Series([len(i) for i in nx.connected_components(g)])"
   ]
  },
  {
   "cell_type": "code",
   "execution_count": 269,
   "metadata": {},
   "outputs": [],
   "source": [
    "largest_cc = max(nx.connected_components(g), key=len)\n",
    "cc = g.subgraph(largest_cc).copy()"
   ]
  },
  {
   "cell_type": "code",
   "execution_count": 298,
   "metadata": {},
   "outputs": [
    {
     "data": {
      "text/plain": [
       "12323"
      ]
     },
     "execution_count": 298,
     "metadata": {},
     "output_type": "execute_result"
    }
   ],
   "source": [
    "g.number_of_nodes()"
   ]
  },
  {
   "cell_type": "code",
   "execution_count": 299,
   "metadata": {},
   "outputs": [
    {
     "data": {
      "text/plain": [
       "11613"
      ]
     },
     "execution_count": 299,
     "metadata": {},
     "output_type": "execute_result"
    }
   ],
   "source": [
    "cc.number_of_nodes()"
   ]
  },
  {
   "cell_type": "code",
   "execution_count": 309,
   "metadata": {},
   "outputs": [],
   "source": [
    "d = ndf[\"degree\"].describe()\n",
    "d = d.apply(lambda row: round(row, 2))"
   ]
  },
  {
   "cell_type": "code",
   "execution_count": 304,
   "metadata": {},
   "outputs": [
    {
     "data": {
      "text/plain": [
       "286"
      ]
     },
     "execution_count": 304,
     "metadata": {},
     "output_type": "execute_result"
    }
   ],
   "source": [
    "nx.diameter(cc) # 286"
   ]
  },
  {
   "cell_type": "code",
   "execution_count": 311,
   "metadata": {},
   "outputs": [],
   "source": [
    "apd = nx.average_shortest_path_length(cc)"
   ]
  },
  {
   "cell_type": "code",
   "execution_count": 328,
   "metadata": {},
   "outputs": [],
   "source": [
    "clust = nx.average_clustering(g)"
   ]
  },
  {
   "cell_type": "code",
   "execution_count": 329,
   "metadata": {},
   "outputs": [
    {
     "data": {
      "text/plain": [
       "0.049525891131727104"
      ]
     },
     "execution_count": 329,
     "metadata": {},
     "output_type": "execute_result"
    }
   ],
   "source": [
    "clust"
   ]
  },
  {
   "cell_type": "code",
   "execution_count": 336,
   "metadata": {
    "scrolled": true
   },
   "outputs": [
    {
     "name": "stdout",
     "output_type": "stream",
     "text": [
      "Núm. vértices GCC/total: 11613/12323\n",
      "Núm. arestas GCC/total: 14304/14981\n",
      "Grau médio: 2.43\n",
      "Grau máximo: 38\n",
      "Diâmetro da GCC: 286\n",
      "Média dos caminhos mínimos na GCC: 56.68\n",
      "Média de clustering: 0.05\n"
     ]
    }
   ],
   "source": [
    "print(\"\\n\".join([\n",
    "    f\"Núm. vértices GCC/total: {cc.number_of_nodes()}/{g.number_of_nodes()}\",\n",
    "    f\"Núm. arestas GCC/total: {cc.number_of_edges()}/{g.number_of_edges()}\",\n",
    "    f\"Grau médio: {d['mean']}\",\n",
    "    f\"Grau máximo: {int(d['max'])}\",\n",
    "    f\"Diâmetro da GCC: 286\",\n",
    "    f\"Média dos caminhos mínimos na GCC: {round(apd, 2)}\",\n",
    "    f\"Média de clustering: {round(clust, 2)}\"\n",
    "]))"
   ]
  },
  {
   "cell_type": "code",
   "execution_count": 338,
   "metadata": {},
   "outputs": [],
   "source": [
    "ecc = nx.eccentricity(cc)"
   ]
  },
  {
   "cell_type": "code",
   "execution_count": 350,
   "metadata": {},
   "outputs": [],
   "source": [
    "sns.set_style(\"darkgrid\")"
   ]
  },
  {
   "cell_type": "code",
   "execution_count": 358,
   "metadata": {},
   "outputs": [],
   "source": [
    "plt.subplot?"
   ]
  },
  {
   "cell_type": "code",
   "execution_count": 364,
   "metadata": {},
   "outputs": [
    {
     "data": {
      "text/plain": [
       "[]"
      ]
     },
     "execution_count": 364,
     "metadata": {},
     "output_type": "execute_result"
    },
    {
     "data": {
      "image/png": "[encoded data removed]",
      "text/plain": [
       "<Figure size 432x288 with 2 Axes>"
      ]
     },
     "metadata": {},
     "output_type": "display_data"
    }
   ],
   "source": [
    "# Plotting hist without kde\n",
    "ax = sns.distplot(my_series, kde=False)\n",
    "\n",
    "# Creating another Y axis\n",
    "second_ax = ax.twinx()\n",
    "\n",
    "#Plotting kde without hist on the second Y axis\n",
    "sns.distplot(my_series, ax=second_ax, kde=True, hist=False)\n",
    "\n",
    "#Removing Y ticks from the second axis\n",
    "second_ax.set_yticks([])"
   ]
  },
  {
   "cell_type": "code",
   "execution_count": 362,
   "metadata": {
    "scrolled": true
   },
   "outputs": [
    {
     "data": {
      "image/png": "[encoded data removed]",
      "text/plain": [
       "<Figure size 432x288 with 1 Axes>"
      ]
     },
     "metadata": {},
     "output_type": "display_data"
    }
   ],
   "source": [
    "ax1 = plt.subplot()\n",
    "my_series = [v for k, v in ecc.items()]\n",
    "sns.distplot(my_series, ax=ax1, rug=False, kde=True, hist=False, color=\"g\")\n",
    "sns.distplot(my_series, ax=ax1, rug=False, kde=False, hist=True, norm_hist=False, color=\"g\")\n",
    "plt.xlabel(\"Values\")\n",
    "plt.ylabel(\"Count\")\n",
    "plt.savefig(\"eccentricity\")"
   ]
  },
  {
   "cell_type": "code",
   "execution_count": null,
   "metadata": {},
   "outputs": [],
   "source": []
  }
 ],
 "metadata": {
  "kernelspec": {
   "display_name": "Python 3",
   "language": "python",
   "name": "python3"
  },
  "language_info": {
   "codemirror_mode": {
    "name": "ipython",
    "version": 3
   },
   "file_extension": ".py",
   "mimetype": "text/x-python",
   "name": "python",
   "nbconvert_exporter": "python",
   "pygments_lexer": "ipython3",
   "version": "3.7.4"
  }
 },
 "nbformat": 4,
 "nbformat_minor": 4
}
