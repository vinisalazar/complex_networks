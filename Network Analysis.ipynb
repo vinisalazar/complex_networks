{
 "cells": [
  {
   "cell_type": "markdown",
   "metadata": {},
   "source": [
    "#### Trabalho 1 - Caracterizando redes com o graph-tool - Entrega e apresentação: 16/9 - Pós-Graduação (apenas entrega): 21/10\n",
    "Nesta tarefa você deve instalar e se familiarizar como graph-tool que é um módulo Python (eficiente) para manipular e analisar redes, ou algum outro software para manipular redes, como o NetworkX ou o Gephi que é uma excelente ferramenta para desenhar redes. Você deve escolher ao menos quatro redes disponíveis nos repositórios abaixo ou em outros repositórios (e não apenas as redes disponíveis no graph-tool), e caracterizá-las utilizando diferentes métricas, como grau, distância, tamanho das componentes conexas, e outras (você pode escolher outras). Para cada métrica analisada, calcule as seguintes estatísticas: \n",
    "\n",
    "* máximo\n",
    "* mínimo\n",
    "* média\n",
    "* mediana\n",
    "* desvio padrão\n",
    "* e distribuição empírica (faça um gráfico)."
   ]
  },
  {
   "cell_type": "markdown",
   "metadata": {},
   "source": [
    "### Dataset 0 - protein network\n",
    "* retirado dos datasets do [livro do Barabási](http://networksciencebook.com/translations/en/resources/data.html)\n",
    "\n",
    "*Network representing the protein-protein interactions in yeast. Each node represents a protein, and they are connected if they physically interact within the cell.*\n",
    "\n",
    "Original data: [Yu, H., Braun, P., Yam, M. A., Lemmens, I., Venkatesan, K., Sahalie, J., ... & Vidal, M. (2008). High-quality binary protein interaction map of the yeast interactome network. Science, 322(5898), 104-110.](http://interactome.dfci.harvard.edu/S_cerevisiae/index.php?page=download)"
   ]
  },
  {
   "cell_type": "code",
   "execution_count": 111,
   "metadata": {},
   "outputs": [],
   "source": [
    "import sys\n",
    "import pandas as pd\n",
    "import networkx as nx\n",
    "import seaborn as sns\n",
    "import numpy as np\n",
    "from matplotlib import pyplot as plt\n",
    "from math import log\n",
    "\n",
    "plt.style.use(\"seaborn\")"
   ]
  },
  {
   "cell_type": "code",
   "execution_count": 33,
   "metadata": {},
   "outputs": [],
   "source": [
    "df = pd.read_csv(\"data/protein.edgelist.txt\", sep=\"\\t\")\n",
    "df.columns = (\"source\", \"target\")\n",
    "\n",
    "G = nx.from_pandas_edgelist(df)"
   ]
  },
  {
   "cell_type": "code",
   "execution_count": 79,
   "metadata": {},
   "outputs": [],
   "source": [
    "degrees = pd.DataFrame.from_dict(dict(G.degree), orient=\"index\")\n",
    "degrees.columns = [\"degree\"]\n",
    "degrees.index.name = \"node\"\n",
    "degrees.sort_values(by=\"degree\", inplace=True)"
   ]
  },
  {
   "cell_type": "markdown",
   "metadata": {},
   "source": [
    "### Métricas para grau"
   ]
  },
  {
   "cell_type": "code",
   "execution_count": 126,
   "metadata": {},
   "outputs": [
    {
     "data": {
      "text/plain": [
       "node\n",
       "1356    91\n",
       "1400    82\n",
       "1637    81\n",
       "1017    52\n",
       "528     46\n",
       "Name: degree, dtype: int64"
      ]
     },
     "execution_count": 126,
     "metadata": {},
     "output_type": "execute_result"
    }
   ],
   "source": [
    "# 5 graus de maior tamanho\n",
    "degrees[\"degree\"].nlargest()"
   ]
  },
  {
   "cell_type": "code",
   "execution_count": 130,
   "metadata": {},
   "outputs": [
    {
     "data": {
      "text/plain": [
       "node\n",
       "1       1\n",
       "1171    2\n",
       "698     3\n",
       "301     4\n",
       "1919    5\n",
       "Name: degree, dtype: int64"
      ]
     },
     "execution_count": 130,
     "metadata": {},
     "output_type": "execute_result"
    }
   ],
   "source": [
    "# 5 graus de menor tamanho\n",
    "degrees[\"degree\"].drop_duplicates().nsmallest(keep=\"first\")"
   ]
  },
  {
   "cell_type": "code",
   "execution_count": 133,
   "metadata": {},
   "outputs": [
    {
     "data": {
      "text/plain": [
       "1    974\n",
       "2    414\n",
       "3    204\n",
       "4    135\n",
       "5     67\n",
       "Name: degree, dtype: int64"
      ]
     },
     "execution_count": 133,
     "metadata": {},
     "output_type": "execute_result"
    }
   ],
   "source": [
    "degrees[\"degree\"].value_counts()[:5]"
   ]
  },
  {
   "cell_type": "code",
   "execution_count": 115,
   "metadata": {},
   "outputs": [
    {
     "name": "stderr",
     "output_type": "stream",
     "text": [
      "/home/vini/anaconda3/envs/nx/lib/python3.7/site-packages/ipykernel_launcher.py:28: UserWarning: Attempted to set non-positive bottom ylim on a log-scaled axis.\n",
      "Invalid limit will be ignored.\n"
     ]
    },
    {
     "data": {
      "text/plain": [
       "<Figure size 576x396 with 0 Axes>"
      ]
     },
     "metadata": {},
     "output_type": "display_data"
    }
   ],
   "source": [
    "def plot(data,filename,dataset):\n",
    "   \n",
    "    \"\"\" Plot Distribution \"\"\"\n",
    "    plt.plot(range(len(data)),data,'bo')\n",
    "    plt.yscale('log')\n",
    "    plt.xscale('log')\n",
    "    plt.ylabel('Freq')\n",
    "    plt.xlabel(f'Degree - {dataset} dataset')\n",
    "    plt.savefig(filename + '_' + dataset + '_distribution.png')\n",
    "    plt.clf()\n",
    "\n",
    "    \"\"\" Plot CDF \"\"\"\n",
    "    s = float(data.sum())\n",
    "    cdf = data.cumsum(0)/s\n",
    "    plt.plot(range(len(cdf)),cdf,'bo')\n",
    "    plt.xscale('log')\n",
    "    plt.ylim([0,1])\n",
    "    plt.ylabel('CDF')\n",
    "    plt.xlabel(f'Degree - {dataset} dataset')\n",
    "    plt.savefig(filename + '_' + dataset + '_cdf.png')\n",
    "    plt.clf()\n",
    "\n",
    "    \"\"\" Plot CCDF \"\"\"\n",
    "    ccdf = 1-cdf\n",
    "    plt.plot(range(len(ccdf)),ccdf,'bo')\n",
    "    plt.xscale('log')\n",
    "    plt.yscale('log')\n",
    "    plt.ylim([0,1])\n",
    "    plt.ylabel('CCDF')\n",
    "    plt.xlabel(f'Degree - {dataset} dataset')\n",
    "    plt.savefig(filename + '_' + dataset + '_ccdf.png')\n",
    "    plt.clf()\n",
    "    \n",
    "edgelist_file = \"data/protein.edgelist.txt\"\n",
    "\n",
    "\"\"\" Load graph \"\"\"\n",
    "df = pd.read_csv(edgelist_file, sep=\"\\t\")\n",
    "df.columns = (\"source\", \"target\")\n",
    "G = nx.from_pandas_edgelist(df)\n",
    "\n",
    "\"\"\" To sparse adjacency matrix \"\"\"\n",
    "M = nx.to_scipy_sparse_matrix(G)\n",
    "\n",
    "indegrees = M.sum(0).A[0]\n",
    "outdegrees = M.sum(1).T.A[0]\n",
    "indegree_distribution = np.bincount(indegrees)\n",
    "outdegree_distribution = np.bincount(outdegrees)\n",
    "\n",
    "plot(indegree_distribution, edgelist_file, 'protein',)"
   ]
  },
  {
   "cell_type": "code",
   "execution_count": null,
   "metadata": {},
   "outputs": [],
   "source": []
  }
 ],
 "metadata": {
  "kernelspec": {
   "display_name": "Python [conda env:nx]",
   "language": "python",
   "name": "conda-env-nx-py"
  },
  "language_info": {
   "codemirror_mode": {
    "name": "ipython",
    "version": 3
   },
   "file_extension": ".py",
   "mimetype": "text/x-python",
   "name": "python",
   "nbconvert_exporter": "python",
   "pygments_lexer": "ipython3",
   "version": "3.7.4"
  }
 },
 "nbformat": 4,
 "nbformat_minor": 2
}
